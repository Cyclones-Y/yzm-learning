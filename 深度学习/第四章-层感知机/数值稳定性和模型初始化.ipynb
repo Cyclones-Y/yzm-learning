{
 "cells": [
  {
   "cell_type": "markdown",
   "source": [
    "## 梯度爆炸"
   ],
   "metadata": {
    "collapsed": false
   },
   "id": "b9a372738d9ea78e"
  },
  {
   "cell_type": "code",
   "execution_count": 1,
   "outputs": [],
   "source": [
    "import torch\n",
    "from d2l import torch as d2l \n",
    "%matplotlib inline"
   ],
   "metadata": {
    "collapsed": false,
    "ExecuteTime": {
     "end_time": "2023-12-07T09:51:13.461937300Z",
     "start_time": "2023-12-07T09:51:11.286317400Z"
    }
   },
   "id": "c993502db51eed72"
  },
  {
   "cell_type": "code",
   "execution_count": 6,
   "outputs": [
    {
     "name": "stdout",
     "output_type": "stream",
     "text": [
      "一个矩阵\n",
      " tensor([[-1.2778, -1.3810, -0.0907,  0.5316],\n",
      "        [ 0.3244,  0.1607,  0.6219,  1.7866],\n",
      "        [-0.0648, -2.5250, -1.7817,  0.6957],\n",
      "        [-0.5096, -1.4052,  0.6207, -1.0827]])\n",
      "一百个矩阵\n",
      " tensor([[-4.7679e+25, -3.0513e+25,  6.1646e+25,  3.5128e+25],\n",
      "        [-8.9824e+24, -5.7484e+24,  1.1614e+25,  6.6179e+24],\n",
      "        [-4.1291e+25, -2.6425e+25,  5.3387e+25,  3.0422e+25],\n",
      "        [-2.8524e+25, -1.8254e+25,  3.6880e+25,  2.1015e+25]])\n"
     ]
    }
   ],
   "source": [
    "M = torch.normal(0, 1, size=(4,4))\n",
    "print('一个矩阵\\n', M)\n",
    "\n",
    "for i in range(100):\n",
    "    M = torch.mm(M, torch.normal(0, 1, size=(4,4)))\n",
    "    \n",
    "print('一百个矩阵\\n',M)\n",
    "\n"
   ],
   "metadata": {
    "collapsed": false,
    "ExecuteTime": {
     "end_time": "2023-12-07T09:55:36.121406700Z",
     "start_time": "2023-12-07T09:55:36.105750500Z"
    }
   },
   "id": "53c0d8da9409409c"
  },
  {
   "cell_type": "code",
   "execution_count": null,
   "outputs": [],
   "source": [],
   "metadata": {
    "collapsed": false
   },
   "id": "baf6bea9164bc43b"
  }
 ],
 "metadata": {
  "kernelspec": {
   "display_name": "Python 3",
   "language": "python",
   "name": "python3"
  },
  "language_info": {
   "codemirror_mode": {
    "name": "ipython",
    "version": 2
   },
   "file_extension": ".py",
   "mimetype": "text/x-python",
   "name": "python",
   "nbconvert_exporter": "python",
   "pygments_lexer": "ipython2",
   "version": "2.7.6"
  }
 },
 "nbformat": 4,
 "nbformat_minor": 5
}
