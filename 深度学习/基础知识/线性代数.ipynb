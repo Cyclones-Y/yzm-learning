{
 "cells": [
  {
   "cell_type": "markdown",
   "source": [
    "### 标量"
   ],
   "metadata": {
    "collapsed": false
   },
   "id": "6c4c5373b5f7111c"
  },
  {
   "cell_type": "code",
   "execution_count": 2,
   "outputs": [
    {
     "name": "stdout",
     "output_type": "stream",
     "text": [
      "tensor(8.) tensor(-2.) tensor(15.) tensor(0.6000)\n"
     ]
    }
   ],
   "source": [
    "import torch\n",
    "y = torch.tensor(3.0)\n",
    "x = torch.tensor(5.0)\n",
    "print((x+y),(y - x),(y * x),(y/x))"
   ],
   "metadata": {
    "collapsed": false,
    "ExecuteTime": {
     "start_time": "2023-11-30T01:20:17.065821900Z"
    }
   },
   "id": "initial_id"
  },
  {
   "cell_type": "markdown",
   "source": [
    "### 向量\n",
    "人们通过一维张量表示向量。一般来说，张量可以具有任意长度，取决于机器的内存限制。"
   ],
   "metadata": {
    "collapsed": false
   },
   "id": "5112965c344f9374"
  },
  {
   "cell_type": "code",
   "execution_count": 12,
   "outputs": [
    {
     "data": {
      "text/plain": "tensor([0, 1, 2, 3, 4, 5])"
     },
     "execution_count": 12,
     "metadata": {},
     "output_type": "execute_result"
    }
   ],
   "source": [
    "x = torch.arange(6)\n",
    "x"
   ],
   "metadata": {
    "collapsed": false,
    "ExecuteTime": {
     "end_time": "2023-11-30T01:26:33.325545Z",
     "start_time": "2023-11-30T01:26:33.295061Z"
    }
   },
   "id": "addeed1ecf331309"
  },
  {
   "cell_type": "markdown",
   "source": [
    "我们可以使用下标来引用向量的任一元素"
   ],
   "metadata": {
    "collapsed": false
   },
   "id": "d09f33c304fc1f42"
  },
  {
   "cell_type": "code",
   "execution_count": 15,
   "outputs": [
    {
     "data": {
      "text/plain": "tensor([0, 1, 2, 3, 4, 5])"
     },
     "execution_count": 15,
     "metadata": {},
     "output_type": "execute_result"
    }
   ],
   "source": [
    "x[:]"
   ],
   "metadata": {
    "collapsed": false,
    "ExecuteTime": {
     "end_time": "2023-11-30T01:27:54.362173900Z",
     "start_time": "2023-11-30T01:27:54.338156Z"
    }
   },
   "id": "1838aaa2d506270c"
  },
  {
   "cell_type": "markdown",
   "source": [
    "### 长度、维度和形状"
   ],
   "metadata": {
    "collapsed": false
   },
   "id": "5d0cd24b7deef666"
  },
  {
   "cell_type": "code",
   "execution_count": 16,
   "outputs": [
    {
     "data": {
      "text/plain": "6"
     },
     "execution_count": 16,
     "metadata": {},
     "output_type": "execute_result"
    }
   ],
   "source": [
    "len(x)"
   ],
   "metadata": {
    "collapsed": false,
    "ExecuteTime": {
     "end_time": "2023-11-30T01:29:24.655276900Z",
     "start_time": "2023-11-30T01:29:24.566970400Z"
    }
   },
   "id": "d48c5ab4db620feb"
  },
  {
   "cell_type": "code",
   "execution_count": 18,
   "outputs": [
    {
     "data": {
      "text/plain": "torch.Size([6])"
     },
     "execution_count": 18,
     "metadata": {},
     "output_type": "execute_result"
    }
   ],
   "source": [
    "x.shape"
   ],
   "metadata": {
    "collapsed": false,
    "ExecuteTime": {
     "end_time": "2023-11-30T01:30:27.752766300Z",
     "start_time": "2023-11-30T01:30:27.710599600Z"
    }
   },
   "id": "f60ff5cb436093ca"
  },
  {
   "cell_type": "markdown",
   "source": [
    "### 矩阵"
   ],
   "metadata": {
    "collapsed": false
   },
   "id": "a67f2eff5878bcc2"
  },
  {
   "cell_type": "code",
   "execution_count": 27,
   "outputs": [
    {
     "data": {
      "text/plain": "tensor([[ 0,  4,  8, 12, 16],\n        [ 1,  5,  9, 13, 17],\n        [ 2,  6, 10, 14, 18],\n        [ 3,  7, 11, 15, 19]])"
     },
     "execution_count": 27,
     "metadata": {},
     "output_type": "execute_result"
    }
   ],
   "source": [
    "A = torch.arange(20).reshape(5,4)\n",
    "A.T"
   ],
   "metadata": {
    "collapsed": false,
    "ExecuteTime": {
     "end_time": "2023-11-30T01:36:09.414219600Z",
     "start_time": "2023-11-30T01:36:09.386656Z"
    }
   },
   "id": "de90b7f9d4ddd3a1"
  },
  {
   "cell_type": "code",
   "execution_count": 29,
   "outputs": [
    {
     "data": {
      "text/plain": "tensor([[1, 2, 3],\n        [4, 5, 6],\n        [3, 2, 0]])"
     },
     "execution_count": 29,
     "metadata": {},
     "output_type": "execute_result"
    }
   ],
   "source": [
    "B = torch.tensor([[1,2,3], [4,5,6], [3,2,0]])\n",
    "B"
   ],
   "metadata": {
    "collapsed": false,
    "ExecuteTime": {
     "end_time": "2023-11-30T01:38:00.564210700Z",
     "start_time": "2023-11-30T01:38:00.543637Z"
    }
   },
   "id": "ab0a1d46b5f10b90"
  },
  {
   "cell_type": "code",
   "execution_count": 30,
   "outputs": [
    {
     "data": {
      "text/plain": "tensor([[ True, False,  True],\n        [False,  True, False],\n        [ True, False,  True]])"
     },
     "execution_count": 30,
     "metadata": {},
     "output_type": "execute_result"
    }
   ],
   "source": [
    "#转置\n",
    "B == B.T"
   ],
   "metadata": {
    "collapsed": false,
    "ExecuteTime": {
     "end_time": "2023-11-30T01:38:24.750133100Z",
     "start_time": "2023-11-30T01:38:24.689549700Z"
    }
   },
   "id": "27594db958143a8a"
  },
  {
   "cell_type": "markdown",
   "source": [
    "### 张量"
   ],
   "metadata": {
    "collapsed": false
   },
   "id": "5e42dca86ee91376"
  },
  {
   "cell_type": "code",
   "execution_count": 35,
   "outputs": [
    {
     "data": {
      "text/plain": "tensor([[[ 0,  1,  2,  3],\n         [ 4,  5,  6,  7],\n         [ 8,  9, 10, 11]],\n\n        [[12, 13, 14, 15],\n         [16, 17, 18, 19],\n         [20, 21, 22, 23]]])"
     },
     "execution_count": 35,
     "metadata": {},
     "output_type": "execute_result"
    }
   ],
   "source": [
    "X = torch.arange(24).reshape(2,3,4)\n",
    "X"
   ],
   "metadata": {
    "collapsed": false,
    "ExecuteTime": {
     "end_time": "2023-11-30T01:41:01.757173800Z",
     "start_time": "2023-11-30T01:41:01.735072700Z"
    }
   },
   "id": "be56d99e575bd289"
  },
  {
   "cell_type": "markdown",
   "source": [
    "### 张量算法的基本性质"
   ],
   "metadata": {
    "collapsed": false
   },
   "id": "c32b9faa94d338b8"
  },
  {
   "cell_type": "code",
   "execution_count": 38,
   "outputs": [
    {
     "data": {
      "text/plain": "(tensor([[ 0.,  1.,  2.,  3.,  4.],\n         [ 5.,  6.,  7.,  8.,  9.],\n         [10., 11., 12., 13., 14.],\n         [15., 16., 17., 18., 19.]]),\n tensor([[ 0.,  2.,  4.,  6.,  8.],\n         [10., 12., 14., 16., 18.],\n         [20., 22., 24., 26., 28.],\n         [30., 32., 34., 36., 38.]]),\n tensor([[  0.,   1.,   4.,   9.,  16.],\n         [ 25.,  36.,  49.,  64.,  81.],\n         [100., 121., 144., 169., 196.],\n         [225., 256., 289., 324., 361.]]))"
     },
     "execution_count": 38,
     "metadata": {},
     "output_type": "execute_result"
    }
   ],
   "source": [
    "A = torch.arange(20,dtype=torch.float32).reshape(4,5)\n",
    "B = A.clone()\n",
    "A, A+B,A*B"
   ],
   "metadata": {
    "collapsed": false,
    "ExecuteTime": {
     "end_time": "2023-11-30T01:46:30.402207700Z",
     "start_time": "2023-11-30T01:46:30.373564900Z"
    }
   },
   "id": "ad035af24d68f2b5"
  },
  {
   "cell_type": "markdown",
   "source": [
    "**将张量乘以或加上一个标量不会改变张量的形状，其中张量的每个元素都将与标量相加或相乘。**"
   ],
   "metadata": {
    "collapsed": false
   },
   "id": "3c0f897a444ddc0f"
  },
  {
   "cell_type": "code",
   "execution_count": 65,
   "outputs": [
    {
     "data": {
      "text/plain": "tensor([[[ 0,  2,  4,  6],\n         [ 8, 10, 12, 14],\n         [16, 18, 20, 22]],\n\n        [[24, 26, 28, 30],\n         [32, 34, 36, 38],\n         [40, 42, 44, 46]]])"
     },
     "execution_count": 65,
     "metadata": {},
     "output_type": "execute_result"
    }
   ],
   "source": [
    "a = 2\n",
    "X = torch.arange(24).reshape(2,3,4)\n",
    "X * a "
   ],
   "metadata": {
    "collapsed": false,
    "ExecuteTime": {
     "end_time": "2023-11-30T01:52:27.665982400Z",
     "start_time": "2023-11-30T01:52:27.654982200Z"
    }
   },
   "id": "d3ea7bb69af11bd6"
  },
  {
   "cell_type": "markdown",
   "source": [
    "### 降维"
   ],
   "metadata": {
    "collapsed": false
   },
   "id": "3a3aefa80b9bc49f"
  },
  {
   "cell_type": "code",
   "execution_count": 71,
   "outputs": [
    {
     "data": {
      "text/plain": "(tensor([0., 1., 2., 3.]), tensor(6.))"
     },
     "execution_count": 71,
     "metadata": {},
     "output_type": "execute_result"
    }
   ],
   "source": [
    "x = torch.arange(4,dtype=torch.float32)\n",
    "x , x.sum()"
   ],
   "metadata": {
    "collapsed": false,
    "ExecuteTime": {
     "end_time": "2023-11-30T01:59:13.644294800Z",
     "start_time": "2023-11-30T01:59:13.628297100Z"
    }
   },
   "id": "daed87bd7f3dd09d"
  },
  {
   "cell_type": "code",
   "execution_count": 73,
   "outputs": [
    {
     "data": {
      "text/plain": "(torch.Size([4, 5]), tensor(190.))"
     },
     "execution_count": 73,
     "metadata": {},
     "output_type": "execute_result"
    }
   ],
   "source": [
    "A.shape,A.sum()"
   ],
   "metadata": {
    "collapsed": false,
    "ExecuteTime": {
     "end_time": "2023-11-30T01:59:35.684760900Z",
     "start_time": "2023-11-30T01:59:35.658761900Z"
    }
   },
   "id": "f9c42f9dbf06aec4"
  },
  {
   "cell_type": "code",
   "execution_count": 76,
   "outputs": [
    {
     "data": {
      "text/plain": "(tensor([30., 34., 38., 42., 46.]),\n torch.Size([5]),\n tensor([[ 0.,  1.,  2.,  3.,  4.],\n         [ 5.,  6.,  7.,  8.,  9.],\n         [10., 11., 12., 13., 14.],\n         [15., 16., 17., 18., 19.]]))"
     },
     "execution_count": 76,
     "metadata": {},
     "output_type": "execute_result"
    }
   ],
   "source": [
    "B = A.sum(axis=0)\n",
    "B,B.shape,A"
   ],
   "metadata": {
    "collapsed": false,
    "ExecuteTime": {
     "end_time": "2023-11-30T02:00:59.841931600Z",
     "start_time": "2023-11-30T02:00:59.826276600Z"
    }
   },
   "id": "5aea70b11ba366f7"
  },
  {
   "cell_type": "code",
   "execution_count": 77,
   "outputs": [
    {
     "data": {
      "text/plain": "(tensor(9.5000), tensor(9.5000))"
     },
     "execution_count": 77,
     "metadata": {},
     "output_type": "execute_result"
    }
   ],
   "source": [
    "A.mean(),A.sum()/A.numel()"
   ],
   "metadata": {
    "collapsed": false,
    "ExecuteTime": {
     "end_time": "2023-11-30T02:02:38.808862200Z",
     "start_time": "2023-11-30T02:02:38.793399600Z"
    }
   },
   "id": "737e61a73e5f612"
  },
  {
   "cell_type": "markdown",
   "source": [
    "### 非降维求和"
   ],
   "metadata": {
    "collapsed": false
   },
   "id": "4a88d1ea4ed3fc88"
  },
  {
   "cell_type": "code",
   "execution_count": 78,
   "outputs": [
    {
     "data": {
      "text/plain": "tensor([[10.],\n        [35.],\n        [60.],\n        [85.]])"
     },
     "execution_count": 78,
     "metadata": {},
     "output_type": "execute_result"
    }
   ],
   "source": [
    "sum_A = A.sum(axis=1,keepdims=True)\n",
    "sum_A"
   ],
   "metadata": {
    "collapsed": false,
    "ExecuteTime": {
     "end_time": "2023-11-30T02:04:32.214655900Z",
     "start_time": "2023-11-30T02:04:32.183387900Z"
    }
   },
   "id": "3f85fe36fda649da"
  },
  {
   "cell_type": "code",
   "execution_count": 79,
   "outputs": [
    {
     "data": {
      "text/plain": "tensor([[0.0000, 0.1000, 0.2000, 0.3000, 0.4000],\n        [0.1429, 0.1714, 0.2000, 0.2286, 0.2571],\n        [0.1667, 0.1833, 0.2000, 0.2167, 0.2333],\n        [0.1765, 0.1882, 0.2000, 0.2118, 0.2235]])"
     },
     "execution_count": 79,
     "metadata": {},
     "output_type": "execute_result"
    }
   ],
   "source": [
    "A / sum_A"
   ],
   "metadata": {
    "collapsed": false,
    "ExecuteTime": {
     "end_time": "2023-11-30T02:04:42.803240700Z",
     "start_time": "2023-11-30T02:04:42.777751Z"
    }
   },
   "id": "f8a48f7340bd87a6"
  },
  {
   "cell_type": "markdown",
   "source": [
    "**如果我们想沿某个轴计算A元素的累积总和， 比如axis=0（按行计算），可以调用cumsum函数。 此函数不会沿任何轴降低输入张量的维度。**"
   ],
   "metadata": {
    "collapsed": false
   },
   "id": "3f1eb5d6bd94532f"
  },
  {
   "cell_type": "code",
   "execution_count": 80,
   "outputs": [
    {
     "data": {
      "text/plain": "tensor([[ 0.,  1.,  2.,  3.,  4.],\n        [ 5.,  7.,  9., 11., 13.],\n        [15., 18., 21., 24., 27.],\n        [30., 34., 38., 42., 46.]])"
     },
     "execution_count": 80,
     "metadata": {},
     "output_type": "execute_result"
    }
   ],
   "source": [
    "A.cumsum(axis=0)"
   ],
   "metadata": {
    "collapsed": false,
    "ExecuteTime": {
     "end_time": "2023-11-30T02:05:56.259622Z",
     "start_time": "2023-11-30T02:05:56.240638300Z"
    }
   },
   "id": "dcedada7ca0f993a"
  },
  {
   "cell_type": "markdown",
   "source": [
    "### 点积"
   ],
   "metadata": {
    "collapsed": false
   },
   "id": "a7a652a34a166025"
  },
  {
   "cell_type": "code",
   "execution_count": 82,
   "outputs": [
    {
     "data": {
      "text/plain": "(tensor([0., 1., 2., 3.]), tensor([1., 1., 1., 1.]), tensor(6.))"
     },
     "execution_count": 82,
     "metadata": {},
     "output_type": "execute_result"
    }
   ],
   "source": [
    "y = torch.ones(4,dtype=torch.float32)\n",
    "x,y,torch.dot(x,y)"
   ],
   "metadata": {
    "collapsed": false,
    "ExecuteTime": {
     "end_time": "2023-11-30T02:12:00.031973800Z",
     "start_time": "2023-11-30T02:12:00.000977700Z"
    }
   },
   "id": "455da04fe6557b6b"
  },
  {
   "cell_type": "code",
   "execution_count": 84,
   "outputs": [
    {
     "data": {
      "text/plain": "tensor(6.)"
     },
     "execution_count": 84,
     "metadata": {},
     "output_type": "execute_result"
    }
   ],
   "source": [
    "torch.sum(x*y)"
   ],
   "metadata": {
    "collapsed": false,
    "ExecuteTime": {
     "end_time": "2023-11-30T02:12:16.877380Z",
     "start_time": "2023-11-30T02:12:16.861730800Z"
    }
   },
   "id": "521d25fcfed40f82"
  },
  {
   "cell_type": "markdown",
   "source": [
    "### 矩阵-向量积"
   ],
   "metadata": {
    "collapsed": false
   },
   "id": "37052a8dac27d2de"
  },
  {
   "cell_type": "code",
   "execution_count": 0,
   "outputs": [],
   "source": [
    "A.shape, x.shape,"
   ],
   "metadata": {
    "collapsed": false
   },
   "id": "9dc22c4b0a68fc22"
  },
  {
   "cell_type": "code",
   "execution_count": 107,
   "outputs": [
    {
     "data": {
      "text/plain": "tensor([ 14.,  38.,  62.,  86., 110.])"
     },
     "execution_count": 107,
     "metadata": {},
     "output_type": "execute_result"
    }
   ],
   "source": [
    "A = A.reshape(5,4)\n",
    "torch.mv(A,x)"
   ],
   "metadata": {
    "collapsed": false,
    "ExecuteTime": {
     "end_time": "2023-11-30T02:21:23.571783Z",
     "start_time": "2023-11-30T02:21:23.542910300Z"
    }
   },
   "id": "56a5b748803e5747"
  },
  {
   "cell_type": "markdown",
   "source": [
    "### 矩阵乘法"
   ],
   "metadata": {
    "collapsed": false
   },
   "id": "41b5885bcc3e9ff9"
  },
  {
   "cell_type": "code",
   "execution_count": 119,
   "outputs": [
    {
     "data": {
      "text/plain": "(tensor([[ 0.,  1.,  2.,  3.],\n         [ 4.,  5.,  6.,  7.],\n         [ 8.,  9., 10., 11.],\n         [12., 13., 14., 15.],\n         [16., 17., 18., 19.]]),\n tensor([[ 6.,  6.,  6.],\n         [22., 22., 22.],\n         [38., 38., 38.],\n         [54., 54., 54.],\n         [70., 70., 70.]]))"
     },
     "execution_count": 119,
     "metadata": {},
     "output_type": "execute_result"
    }
   ],
   "source": [
    "B = torch.ones(4,3)\n",
    "A,torch.mm(A,B)"
   ],
   "metadata": {
    "collapsed": false,
    "ExecuteTime": {
     "end_time": "2023-11-30T02:28:01.941414700Z",
     "start_time": "2023-11-30T02:28:01.925909100Z"
    }
   },
   "id": "183eed3b77ddd5b0"
  },
  {
   "cell_type": "markdown",
   "source": [
    "### 范数"
   ],
   "metadata": {
    "collapsed": false
   },
   "id": "1d9687e868463a3d"
  },
  {
   "cell_type": "code",
   "execution_count": 124,
   "outputs": [
    {
     "data": {
      "text/plain": "tensor(5.)"
     },
     "execution_count": 124,
     "metadata": {},
     "output_type": "execute_result"
    }
   ],
   "source": [
    "# L2范数\n",
    "u = torch.tensor([3.0,-4.0])\n",
    "torch.norm(u)"
   ],
   "metadata": {
    "collapsed": false,
    "ExecuteTime": {
     "end_time": "2023-11-30T02:36:20.193236900Z",
     "start_time": "2023-11-30T02:36:20.164102200Z"
    }
   },
   "id": "4c14d9529a83696b"
  },
  {
   "cell_type": "code",
   "execution_count": 126,
   "outputs": [
    {
     "data": {
      "text/plain": "tensor(7.)"
     },
     "execution_count": 126,
     "metadata": {},
     "output_type": "execute_result"
    }
   ],
   "source": [
    "# L1范数\n",
    "torch.abs(u).sum()"
   ],
   "metadata": {
    "collapsed": false,
    "ExecuteTime": {
     "end_time": "2023-11-30T02:38:53.251683300Z",
     "start_time": "2023-11-30T02:38:53.220123400Z"
    }
   },
   "id": "ba9dbb6cc021c5aa"
  },
  {
   "cell_type": "code",
   "execution_count": 127,
   "outputs": [
    {
     "data": {
      "text/plain": "tensor(6.)"
     },
     "execution_count": 127,
     "metadata": {},
     "output_type": "execute_result"
    }
   ],
   "source": [
    "# Frobenius范数\n",
    "torch.norm(torch.ones(4,9))"
   ],
   "metadata": {
    "collapsed": false,
    "ExecuteTime": {
     "end_time": "2023-11-30T02:40:02.356608800Z",
     "start_time": "2023-11-30T02:40:02.339022900Z"
    }
   },
   "id": "6a3caa1ff3f29e1"
  },
  {
   "cell_type": "markdown",
   "source": [],
   "metadata": {
    "collapsed": false
   },
   "id": "5cee8084cf09b4a7"
  },
  {
   "cell_type": "code",
   "execution_count": 137,
   "outputs": [
    {
     "data": {
      "text/plain": "2"
     },
     "execution_count": 137,
     "metadata": {},
     "output_type": "execute_result"
    }
   ],
   "source": [
    "B = torch.arange(24).reshape(2,3,4)\n",
    "len(B)"
   ],
   "metadata": {
    "collapsed": false,
    "ExecuteTime": {
     "end_time": "2023-11-30T02:51:13.105597Z",
     "start_time": "2023-11-30T02:51:13.089971500Z"
    }
   },
   "id": "700d9abb6b7dfa1"
  }
 ],
 "metadata": {
  "kernelspec": {
   "display_name": "Python 3",
   "language": "python",
   "name": "python3"
  },
  "language_info": {
   "codemirror_mode": {
    "name": "ipython",
    "version": 2
   },
   "file_extension": ".py",
   "mimetype": "text/x-python",
   "name": "python",
   "nbconvert_exporter": "python",
   "pygments_lexer": "ipython2",
   "version": "2.7.6"
  }
 },
 "nbformat": 4,
 "nbformat_minor": 5
}
