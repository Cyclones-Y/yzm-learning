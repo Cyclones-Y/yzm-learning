{
 "cells": [
  {
   "cell_type": "markdown",
   "source": [
    "## 读取数据集\n",
    "举一个例子，我们首先创建一个人工数据集，并存储在CSV（逗号分隔值）文件 house_tiny.csv中。 以其他格式存储的数据也可以通过类似的方式进行处理。 下面我们将数据集按行写入CSV文件中。"
   ],
   "metadata": {
    "collapsed": false
   },
   "id": "9101b13ea8b4e613"
  },
  {
   "cell_type": "code",
   "execution_count": 22,
   "outputs": [],
   "source": [
    "import os\n",
    "\n",
    "import numpy as np\n",
    "\n",
    "os.makedirs(os.path.join('data'), exist_ok=True)\n",
    "data_file = os.path.join('data', 'house_tiny.csv')\n",
    "with open(data_file, 'w') as f:\n",
    "    f.write('NumRooms,Alley,Price\\n')  # 列名\n",
    "    f.write('NA,Pave,127500\\n')  # 每行表示一个数据样本\n",
    "    f.write('2,NA,106000\\n')\n",
    "    f.write('4,NA,178100\\n')\n",
    "    f.write('NA,NA,140000\\n')"
   ],
   "metadata": {
    "collapsed": false,
    "ExecuteTime": {
     "end_time": "2023-11-29T10:33:09.769886200Z",
     "start_time": "2023-11-29T10:33:09.748789500Z"
    }
   },
   "id": "ae19b179a9cbd8bd"
  },
  {
   "cell_type": "markdown",
   "source": [
    "要从创建的CSV文件中加载原始数据集，我们导入pandas包并调用read_csv函数。该数据集有四行三列。其中每行描述了房间数量（“NumRooms”）、巷子类型（“Alley”）和房屋价格（“Price”）"
   ],
   "metadata": {
    "collapsed": false
   },
   "id": "826c257f162d0eb0"
  },
  {
   "cell_type": "code",
   "execution_count": 29,
   "outputs": [
    {
     "name": "stdout",
     "output_type": "stream",
     "text": [
      "   NumRooms Alley   Price\n",
      "0       NaN  Pave  127500\n",
      "1       2.0   NaN  106000\n",
      "2       4.0   NaN  178100\n",
      "3       NaN   NaN  140000\n"
     ]
    }
   ],
   "source": [
    "import pandas as pd\n",
    "\n",
    "data = pd.read_csv(data_file)\n",
    "print(data)"
   ],
   "metadata": {
    "collapsed": false,
    "ExecuteTime": {
     "end_time": "2023-11-29T10:51:22.810202500Z",
     "start_time": "2023-11-29T10:51:22.788197100Z"
    }
   },
   "id": "d6e536ccad91e294"
  },
  {
   "cell_type": "markdown",
   "source": [
    "## 处理缺失值\n",
    "注意，“NaN”项代表缺失值。 为了处理缺失的数据，典型的方法包括插值法和删除法， 其中插值法用一个替代值弥补缺失值，而删除法则直接忽略缺失值。 在这里，我们将考虑插值法。\n",
    "通过位置索引iloc，我们将data分成inputs和outputs， 其中前者为data的前两列，而后者为data的最后一列。 对于inputs中缺少的数值，我们用同一列的均值替换“NaN”项。"
   ],
   "metadata": {
    "collapsed": false
   },
   "id": "8fbd8fb4318fe5dc"
  },
  {
   "cell_type": "code",
   "execution_count": 31,
   "outputs": [
    {
     "name": "stdout",
     "output_type": "stream",
     "text": [
      "   NumRooms Alley\n",
      "0       3.0  Pave\n",
      "1       2.0   NaN\n",
      "2       4.0   NaN\n",
      "3       3.0   NaN\n"
     ]
    }
   ],
   "source": [
    "inputs, outputs = data.iloc[:,0:2],data.iloc[:,2]\n",
    "inputs = inputs.fillna(inputs.mean(numeric_only=True))\n",
    "print(inputs)"
   ],
   "metadata": {
    "collapsed": false,
    "ExecuteTime": {
     "end_time": "2023-11-29T10:53:34.138493800Z",
     "start_time": "2023-11-29T10:53:34.093950500Z"
    }
   },
   "id": "437515f5f075b537"
  },
  {
   "cell_type": "code",
   "execution_count": 32,
   "outputs": [
    {
     "name": "stdout",
     "output_type": "stream",
     "text": [
      "   NumRooms  Alley_Pave  Alley_nan\n",
      "0       3.0        True      False\n",
      "1       2.0       False       True\n",
      "2       4.0       False       True\n",
      "3       3.0       False       True\n"
     ]
    }
   ],
   "source": [
    "inputs = pd.get_dummies(inputs,dummy_na=True)\n",
    "print(inputs)"
   ],
   "metadata": {
    "collapsed": false,
    "ExecuteTime": {
     "end_time": "2023-11-29T10:54:13.933283300Z",
     "start_time": "2023-11-29T10:54:13.900839Z"
    }
   },
   "id": "d01f7e8c96d1bd5e"
  },
  {
   "cell_type": "markdown",
   "source": [
    "转换为张量格式"
   ],
   "metadata": {
    "collapsed": false
   },
   "id": "2e3b93bbd510f12e"
  },
  {
   "cell_type": "code",
   "execution_count": 34,
   "outputs": [
    {
     "data": {
      "text/plain": "tensor([[3., 1., 0.],\n        [2., 0., 1.],\n        [4., 0., 1.],\n        [3., 0., 1.]], dtype=torch.float64)"
     },
     "execution_count": 34,
     "metadata": {},
     "output_type": "execute_result"
    }
   ],
   "source": [
    "import torch\n",
    "\n",
    "X = torch.tensor(inputs.to_numpy(dtype=float))\n",
    "y = torch.tensor(outputs.to_numpy(dtype=float))\n",
    "X,y"
   ],
   "metadata": {
    "collapsed": false,
    "ExecuteTime": {
     "end_time": "2023-11-29T11:05:38.756958Z",
     "start_time": "2023-11-29T11:05:38.726120600Z"
    }
   },
   "id": "1e65d0a8b7986e2a"
  },
  {
   "cell_type": "markdown",
   "source": [
    "## 任务：\n",
    "创建包含更多行和列的原始数据集。\n",
    "\n",
    "删除缺失值最多的列。\n",
    "\n",
    "将预处理后的数据集转换为张量格式。"
   ],
   "metadata": {
    "collapsed": false
   },
   "id": "aabf94d1e5a42b69"
  },
  {
   "cell_type": "code",
   "execution_count": 52,
   "outputs": [],
   "source": [
    "with open(data_file,'a') as f :\n",
    "    f.write('5,Pave,12456\\n')\n",
    "    f.write('NA,Pave,789541\\n')\n",
    "    f.write('7,NA,65461\\n')\n",
    "    f.write('9,NA,651155\\n')"
   ],
   "metadata": {
    "collapsed": false,
    "ExecuteTime": {
     "end_time": "2023-11-29T11:46:47.216783900Z",
     "start_time": "2023-11-29T11:46:47.192607100Z"
    }
   },
   "id": "cc736273f5613ce4"
  },
  {
   "cell_type": "code",
   "execution_count": 54,
   "outputs": [
    {
     "name": "stdout",
     "output_type": "stream",
     "text": [
      "    NumRooms Alley   Price\n",
      "0        NaN  Pave  127500\n",
      "1        2.0   NaN  106000\n",
      "2        4.0   NaN  178100\n",
      "3        NaN   NaN  140000\n",
      "4        NaN  Pave  789541\n",
      "5        5.0  Pave   12456\n",
      "6        NaN  Pave  789541\n",
      "7        5.0  Pave   12456\n",
      "8        NaN  Pave  789541\n",
      "9        7.0   NaN   65461\n",
      "10       NaN  Pave  789541\n",
      "11       7.0   NaN   65461\n",
      "12       NaN  Pave  789541\n",
      "13       7.0   NaN   65461\n",
      "14       NaN  Pave  789541\n",
      "15       7.0   NaN   65461\n",
      "16       NaN  Pave  789541\n",
      "17       7.0   NaN   65461\n",
      "18       9.0   NaN  651155\n",
      "19       5.0  Pave   12456\n",
      "20       NaN  Pave  789541\n",
      "21       7.0   NaN   65461\n",
      "22       9.0   NaN  651155\n",
      "23       5.0  Pave   12456\n",
      "24       NaN  Pave  789541\n",
      "25       7.0   NaN   65461\n",
      "26       9.0   NaN  651155\n"
     ]
    }
   ],
   "source": [
    "data = pd.read_csv(data_file)\n",
    "print(data)"
   ],
   "metadata": {
    "collapsed": false,
    "ExecuteTime": {
     "end_time": "2023-11-29T11:47:04.028890300Z",
     "start_time": "2023-11-29T11:47:03.974166600Z"
    }
   },
   "id": "809be3a579ebbbe7"
  },
  {
   "cell_type": "code",
   "execution_count": 81,
   "outputs": [
    {
     "name": "stdout",
     "output_type": "stream",
     "text": [
      "    NumRooms   Price\n",
      "0        NaN  127500\n",
      "1        2.0  106000\n",
      "2        4.0  178100\n",
      "3        NaN  140000\n",
      "4        NaN  789541\n",
      "5        5.0   12456\n",
      "6        NaN  789541\n",
      "7        5.0   12456\n",
      "8        NaN  789541\n",
      "9        7.0   65461\n",
      "10       NaN  789541\n",
      "11       7.0   65461\n",
      "12       NaN  789541\n",
      "13       7.0   65461\n",
      "14       NaN  789541\n",
      "15       7.0   65461\n",
      "16       NaN  789541\n",
      "17       7.0   65461\n",
      "18       9.0  651155\n",
      "19       5.0   12456\n",
      "20       NaN  789541\n",
      "21       7.0   65461\n",
      "22       9.0  651155\n",
      "23       5.0   12456\n",
      "24       NaN  789541\n",
      "25       7.0   65461\n",
      "26       9.0  651155\n"
     ]
    }
   ],
   "source": [
    "#删除空值最多的列\n",
    "Data = pd.read_csv('data/house_tiny.csv')\n",
    "number_max = Data.isnull().sum(axis=0)\n",
    "max_id = number_max.idxmax()\n",
    "Data = Data.drop([max_id],axis=1)\n",
    "print(Data)"
   ],
   "metadata": {
    "collapsed": false,
    "ExecuteTime": {
     "end_time": "2023-11-29T12:27:41.832087700Z",
     "start_time": "2023-11-29T12:27:41.801266700Z"
    }
   },
   "id": "5093b0a43256e9de"
  },
  {
   "cell_type": "markdown",
   "source": [
    "## 填充空值"
   ],
   "metadata": {
    "collapsed": false
   },
   "id": "dc5a66d5de450dda"
  },
  {
   "cell_type": "code",
   "execution_count": 82,
   "outputs": [
    {
     "name": "stdout",
     "output_type": "stream",
     "text": [
      "    NumRooms   Price\n",
      "0      6.375  127500\n",
      "1      2.000  106000\n",
      "2      4.000  178100\n",
      "3      6.375  140000\n",
      "4      6.375  789541\n",
      "5      5.000   12456\n",
      "6      6.375  789541\n",
      "7      5.000   12456\n",
      "8      6.375  789541\n",
      "9      7.000   65461\n",
      "10     6.375  789541\n",
      "11     7.000   65461\n",
      "12     6.375  789541\n",
      "13     7.000   65461\n",
      "14     6.375  789541\n",
      "15     7.000   65461\n",
      "16     6.375  789541\n",
      "17     7.000   65461\n",
      "18     9.000  651155\n",
      "19     5.000   12456\n",
      "20     6.375  789541\n",
      "21     7.000   65461\n",
      "22     9.000  651155\n",
      "23     5.000   12456\n",
      "24     6.375  789541\n",
      "25     7.000   65461\n",
      "26     9.000  651155\n"
     ]
    }
   ],
   "source": [
    "Data = Data.fillna(Data.mean(axis=0))\n",
    "print(Data)"
   ],
   "metadata": {
    "collapsed": false,
    "ExecuteTime": {
     "end_time": "2023-11-29T12:30:34.296587400Z",
     "start_time": "2023-11-29T12:30:34.227589500Z"
    }
   },
   "id": "dfa480305c55e552"
  },
  {
   "cell_type": "code",
   "execution_count": 84,
   "outputs": [
    {
     "name": "stdout",
     "output_type": "stream",
     "text": [
      "tensor([[     6, 127500],\n",
      "        [     2, 106000],\n",
      "        [     4, 178100],\n",
      "        [     6, 140000],\n",
      "        [     6, 789541],\n",
      "        [     5,  12456],\n",
      "        [     6, 789541],\n",
      "        [     5,  12456],\n",
      "        [     6, 789541],\n",
      "        [     7,  65461],\n",
      "        [     6, 789541],\n",
      "        [     7,  65461],\n",
      "        [     6, 789541],\n",
      "        [     7,  65461],\n",
      "        [     6, 789541],\n",
      "        [     7,  65461],\n",
      "        [     6, 789541],\n",
      "        [     7,  65461],\n",
      "        [     9, 651155],\n",
      "        [     5,  12456],\n",
      "        [     6, 789541],\n",
      "        [     7,  65461],\n",
      "        [     9, 651155],\n",
      "        [     5,  12456],\n",
      "        [     6, 789541],\n",
      "        [     7,  65461],\n",
      "        [     9, 651155]], dtype=torch.int32)\n"
     ]
    }
   ],
   "source": [
    "X = torch.tensor(Data.to_numpy(dtype=int))\n",
    "print(X)"
   ],
   "metadata": {
    "collapsed": false,
    "ExecuteTime": {
     "end_time": "2023-11-29T12:33:56.378653200Z",
     "start_time": "2023-11-29T12:33:56.314166200Z"
    }
   },
   "id": "ab2af8ea96c8595d"
  }
 ],
 "metadata": {
  "kernelspec": {
   "display_name": "Python 3",
   "language": "python",
   "name": "python3"
  },
  "language_info": {
   "codemirror_mode": {
    "name": "ipython",
    "version": 2
   },
   "file_extension": ".py",
   "mimetype": "text/x-python",
   "name": "python",
   "nbconvert_exporter": "python",
   "pygments_lexer": "ipython2",
   "version": "2.7.6"
  }
 },
 "nbformat": 4,
 "nbformat_minor": 5
}
