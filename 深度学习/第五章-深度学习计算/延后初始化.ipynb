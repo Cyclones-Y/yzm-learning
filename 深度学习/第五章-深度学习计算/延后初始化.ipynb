{
 "cells": [
  {
   "cell_type": "code",
   "execution_count": 9,
   "id": "initial_id",
   "metadata": {
    "collapsed": true,
    "ExecuteTime": {
     "end_time": "2023-12-15T06:14:22.197505600Z",
     "start_time": "2023-12-15T06:14:22.187219500Z"
    }
   },
   "outputs": [
    {
     "name": "stdout",
     "output_type": "stream",
     "text": [
      "Sequential(\n",
      "  (0): LazyLinear(in_features=0, out_features=256, bias=True)\n",
      "  (1): ReLU()\n",
      "  (2): LazyLinear(in_features=0, out_features=10, bias=True)\n",
      ")\n",
      "tensor([[ 0.1052,  0.1081, -0.2154,  ..., -0.0361,  0.0397, -0.0085],\n",
      "        [-0.1763, -0.1341, -0.1551,  ...,  0.2074, -0.1948,  0.1098],\n",
      "        [-0.0629,  0.0433, -0.1760,  ...,  0.1983, -0.2045,  0.1427],\n",
      "        ...,\n",
      "        [-0.0678, -0.0074, -0.2121,  ..., -0.0356,  0.1411, -0.0376],\n",
      "        [-0.1862, -0.1918,  0.1905,  ...,  0.1896, -0.0469, -0.1387],\n",
      "        [-0.0053,  0.0343,  0.1917,  ..., -0.1656,  0.0277,  0.0455]])\n"
     ]
    }
   ],
   "source": [
    "import torch\n",
    "from torch import nn\n",
    "net = nn.Sequential(nn.LazyLinear(256),\n",
    "                    nn.ReLU(),\n",
    "                    nn.LazyLinear(10))\n",
    "print(net)\n",
    "\n",
    "X = torch.rand(2,20)\n",
    "net(X)\n",
    "print(net[0].weight.data[:])"
   ]
  },
  {
   "cell_type": "code",
   "execution_count": 13,
   "outputs": [
    {
     "name": "stdout",
     "output_type": "stream",
     "text": [
      "1\n"
     ]
    }
   ],
   "source": [
    "payload = {\n",
    "        'image': 1,\n",
    "        'detect_direction': 'true',\n",
    "        'line_probability': 'false',\n",
    "        'disp_line_poly': 'false',\n",
    "        'layout_analysis': 'false',\n",
    "        'recg_tables': 'true',\n",
    "        'recog_seal': 'false',\n",
    "        'recg_formula': 'false',\n",
    "        'erase_seal': 'false',\n",
    "        'disp_underline_analysis': 'false'\n",
    "    }\n"
   ],
   "metadata": {
    "collapsed": false,
    "ExecuteTime": {
     "end_time": "2023-12-15T07:54:34.138126300Z",
     "start_time": "2023-12-15T07:54:34.080175800Z"
    }
   },
   "id": "5afd37e778fd68d3"
  }
 ],
 "metadata": {
  "kernelspec": {
   "display_name": "Python 3",
   "language": "python",
   "name": "python3"
  },
  "language_info": {
   "codemirror_mode": {
    "name": "ipython",
    "version": 2
   },
   "file_extension": ".py",
   "mimetype": "text/x-python",
   "name": "python",
   "nbconvert_exporter": "python",
   "pygments_lexer": "ipython2",
   "version": "2.7.6"
  }
 },
 "nbformat": 4,
 "nbformat_minor": 5
}
