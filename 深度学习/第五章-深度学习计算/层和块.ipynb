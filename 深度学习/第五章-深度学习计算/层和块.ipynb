{
 "cells": [
  {
   "cell_type": "code",
   "execution_count": 1,
   "id": "initial_id",
   "metadata": {
    "collapsed": true,
    "ExecuteTime": {
     "end_time": "2023-12-15T05:43:16.778175400Z",
     "start_time": "2023-12-15T05:43:15.197878100Z"
    }
   },
   "outputs": [
    {
     "data": {
      "text/plain": "tensor([[-1.9299e-01,  2.6591e-02, -1.8691e-04,  6.2071e-02, -1.0477e-01,\n          2.1494e-01, -1.5033e-02,  1.3259e-01,  1.6497e-03, -2.1067e-01],\n        [-1.9454e-01, -3.6067e-02,  5.8015e-02,  1.3466e-01, -5.3942e-02,\n          9.2310e-02,  8.6950e-02,  2.3103e-01,  7.2298e-02, -2.7761e-01]],\n       grad_fn=<AddmmBackward0>)"
     },
     "execution_count": 1,
     "metadata": {},
     "output_type": "execute_result"
    }
   ],
   "source": [
    "import torch\n",
    "from torch import nn\n",
    "from torch.nn import functional as F\n",
    "\n",
    "net = nn.Sequential(\n",
    "    nn.Linear(20,256),\n",
    "    nn.ReLU(),\n",
    "    nn.Linear(256,10))\n",
    "X = torch.rand(2, 20)\n",
    "net(X)"
   ]
  },
  {
   "cell_type": "markdown",
   "source": [
    "#### 自定义块\n",
    "从零开始编写一个块。 它包含一个多层感知机，其具有256个隐藏单元的隐藏层和一个10维输出层。 注意，下面的MLP类继承了表示块的类。 我们的实现只需要提供我们自己的构造函数（Python中的__init__函数）和前向传播函数。"
   ],
   "metadata": {
    "collapsed": false
   },
   "id": "b198c3382fb93a95"
  },
  {
   "cell_type": "code",
   "execution_count": 5,
   "outputs": [],
   "source": [
    "import torch\n",
    "from torch import nn\n",
    "from torch.nn import functional as F\n",
    "\n",
    "class MLP(nn.Module):\n",
    "    def __init__(self):\n",
    "        super().__init__()\n",
    "        self.hidden = nn.Linear(20, 256)\n",
    "        self.out = nn.Linear(256, 10)\n",
    "    \n",
    "    def forward(self, X):\n",
    "        return self.out(F.relu(self.hidden(X)))"
   ],
   "metadata": {
    "collapsed": false,
    "ExecuteTime": {
     "end_time": "2023-12-15T05:44:38.467546300Z",
     "start_time": "2023-12-15T05:44:38.451287Z"
    }
   },
   "id": "b32db6b44d44fcb6"
  },
  {
   "cell_type": "code",
   "execution_count": 11,
   "outputs": [
    {
     "data": {
      "text/plain": "tensor([[-0.1542,  0.0282, -0.1982,  0.0508, -0.0958,  0.0309,  0.1501, -0.2069,\n         -0.1491, -0.0127],\n        [-0.1597,  0.0608, -0.2833,  0.0565, -0.0515,  0.0341,  0.1243, -0.1932,\n         -0.1912, -0.0879]], grad_fn=<AddmmBackward0>)"
     },
     "execution_count": 11,
     "metadata": {},
     "output_type": "execute_result"
    }
   ],
   "source": [
    "net = MLP()\n",
    "net(X)"
   ],
   "metadata": {
    "collapsed": false,
    "ExecuteTime": {
     "end_time": "2023-12-12T11:01:32.034996200Z",
     "start_time": "2023-12-12T11:01:32.010487500Z"
    }
   },
   "id": "d030da9f44a12832"
  },
  {
   "cell_type": "markdown",
   "source": [
    "在这个例子中，我们通过实例化nn.Sequential来构建我们的模型， 层的执行顺序是作为参数传递的。 简而言之，nn.Sequential定义了一种特殊的Module， 即在PyTorch中表示一个块的类， 它维护了一个由Module组成的有序列表。 注意，两个全连接层都是Linear类的实例， Linear类本身就是Module的子类。 另外，到目前为止，我们一直在通过net(X)调用我们的模型来获得模型的输出。 这实际上是net.__call__(X)的简写。 这个前向传播函数非常简单： 它将列表中的每个块连接在一起，将每个块的输出作为下一个块的输入。"
   ],
   "metadata": {
    "collapsed": false
   },
   "id": "cdeb2b2b96a94260"
  },
  {
   "cell_type": "markdown",
   "source": [
    "#### 顺序块\n",
    "现在我们可以更仔细地看看Sequential类是如何工作的， 回想一下Sequential的设计是为了把其他模块串起来。 为了构建我们自己的简化的MySequential， 我们只需要定义两个关键函数：\n",
    "\n",
    "一种将块逐个追加到列表中的函数；\n",
    "\n",
    "一种前向传播函数，用于将输入按追加块的顺序传递给块组成的“链条”。\n",
    "\n",
    "下面的MySequential类提供了与默认Sequential类相同的功能。"
   ],
   "metadata": {
    "collapsed": false
   },
   "id": "1c72b770252018b"
  },
  {
   "cell_type": "code",
   "execution_count": 12,
   "outputs": [],
   "source": [
    "class MySequential(nn.Module):\n",
    "    def __init__(self, *args):\n",
    "        super().__init__()\n",
    "        for idx, module in enumerate(args):\n",
    "            # 这里，module是Module子类的一个实例。我们把它保存在'Module'类的成员\n",
    "            # 变量_modules中。_module的类型是OrderedDict\n",
    "            self._modules[str(idx)] = module\n",
    "    def forward(self, X):\n",
    "        # OrderedDict保证了按照成员添加的顺序遍历它们\n",
    "        for block in self._modules.values():\n",
    "            X = block(X)\n",
    "        return X"
   ],
   "metadata": {
    "collapsed": false,
    "ExecuteTime": {
     "end_time": "2023-12-11T10:11:58.090628Z",
     "start_time": "2023-12-11T10:11:58.067492200Z"
    }
   },
   "id": "c9be63a5846cdc42"
  },
  {
   "cell_type": "markdown",
   "source": [
    "### 在前向传播过程中执行代码"
   ],
   "metadata": {
    "collapsed": false
   },
   "id": "7aa34dea6a0d7a39"
  },
  {
   "cell_type": "code",
   "execution_count": 6,
   "outputs": [],
   "source": [
    "class FixedHiddenMLP(nn.Module):\n",
    "    def __init__(self):\n",
    "        super().__init__()\n",
    "         # 不计算梯度的随机权重参数。因此其在训练期间保持不变\n",
    "        self.rand_weight = torch.rand((20,20), requires_grad=False)\n",
    "        self.linear = nn.Linear(20, 20)\n",
    "        \n",
    "    def forward(self, X):\n",
    "        X = self.linear(X)\n",
    "        # 使用创建的常量参数以及relu和mm函数\n",
    "        X = F.relu(torch.mm(X, self.rand_weight) + 1)\n",
    "        # 复用全连接层。这相当于两个全连接层共享参数\n",
    "        X = self.linear(X)\n",
    "        # 控制流\n",
    "        while X.abs().sum() > 1:\n",
    "            X /= 2 \n",
    "        return X.sum()"
   ],
   "metadata": {
    "collapsed": false,
    "ExecuteTime": {
     "end_time": "2023-12-15T05:44:42.526143800Z",
     "start_time": "2023-12-15T05:44:42.515560900Z"
    }
   },
   "id": "3ed3513b751bef5d"
  },
  {
   "cell_type": "code",
   "execution_count": 7,
   "outputs": [
    {
     "ename": "TypeError",
     "evalue": "'FixedHiddenMLP' object is not subscriptable",
     "output_type": "error",
     "traceback": [
      "\u001B[1;31m---------------------------------------------------------------------------\u001B[0m",
      "\u001B[1;31mTypeError\u001B[0m                                 Traceback (most recent call last)",
      "Cell \u001B[1;32mIn[7], line 2\u001B[0m\n\u001B[0;32m      1\u001B[0m net \u001B[38;5;241m=\u001B[39m FixedHiddenMLP()\n\u001B[1;32m----> 2\u001B[0m \u001B[38;5;28mprint\u001B[39m(\u001B[43mnet\u001B[49m\u001B[43m[\u001B[49m\u001B[38;5;241;43m0\u001B[39;49m\u001B[43m]\u001B[49m\u001B[38;5;241m.\u001B[39mweight\u001B[38;5;241m.\u001B[39mdata[:])\n",
      "\u001B[1;31mTypeError\u001B[0m: 'FixedHiddenMLP' object is not subscriptable"
     ]
    }
   ],
   "source": [
    "net = FixedHiddenMLP()\n",
    "print(net[0].weight.data[:])"
   ],
   "metadata": {
    "collapsed": false,
    "ExecuteTime": {
     "end_time": "2023-12-15T05:44:44.300130500Z",
     "start_time": "2023-12-15T05:44:44.268845800Z"
    }
   },
   "id": "5532c1d00f380696"
  },
  {
   "cell_type": "markdown",
   "source": [
    "### 我们可以混合搭配各种组合块的方法。 在下面的例子中，我们以一些想到的方法嵌套块。"
   ],
   "metadata": {
    "collapsed": false
   },
   "id": "9891b8347a59e5f8"
  },
  {
   "cell_type": "code",
   "execution_count": 6,
   "outputs": [
    {
     "data": {
      "text/plain": "tensor(0.2133, grad_fn=<SumBackward0>)"
     },
     "execution_count": 6,
     "metadata": {},
     "output_type": "execute_result"
    }
   ],
   "source": [
    "class NestMLP(nn.Module):\n",
    "    def __init__(self):\n",
    "        super().__init__()\n",
    "        self.net = nn.Sequential(nn.Linear(20, 64), nn.ReLU(),\n",
    "                                 nn.Linear(64, 32), nn.ReLU())\n",
    "        self.linear = nn.Linear(32, 16)\n",
    "    \n",
    "    def forward(self, X):\n",
    "        return self.linear(self.net(X))\n",
    "\n",
    "chimera = nn.Sequential(NestMLP(), nn.Linear(16, 20), FixedHiddenMLP())\n",
    "chimera(X)"
   ],
   "metadata": {
    "collapsed": false,
    "ExecuteTime": {
     "end_time": "2023-12-12T06:23:47.015827900Z",
     "start_time": "2023-12-12T06:23:46.975304200Z"
    }
   },
   "id": "f4e9be2e23eb98a0"
  },
  {
   "cell_type": "markdown",
   "source": [
    "### 练习 ：实现一个块，它以两个块为参数，例如net1和net2，并返回前向传播中两个网络的串联输出。这也被称为平行块。"
   ],
   "metadata": {
    "collapsed": false
   },
   "id": "ead4630c09104a9b"
  },
  {
   "cell_type": "code",
   "execution_count": 22,
   "outputs": [],
   "source": [
    "import torch\n",
    "from torch import nn\n",
    "\n",
    "class mynet(nn.Module):\n",
    "    def __init__(self, *args):\n",
    "        super().__init__()\n",
    "        for idx, module in enumerate(args):\n",
    "            self.__modules[str(idx)] = module\n",
    "        \n",
    "    def forward(self, X):\n",
    "        return torch.concat((self._modules['0'](X),self._modules['1'](X) ), 1)"
   ],
   "metadata": {
    "collapsed": false,
    "ExecuteTime": {
     "end_time": "2023-12-12T11:59:53.422043500Z",
     "start_time": "2023-12-12T11:59:53.376048900Z"
    }
   },
   "id": "3fb1d6c99a7844c1"
  },
  {
   "cell_type": "code",
   "execution_count": 16,
   "outputs": [
    {
     "ename": "NameError",
     "evalue": "name 'MyParallel' is not defined",
     "output_type": "error",
     "traceback": [
      "\u001B[1;31m---------------------------------------------------------------------------\u001B[0m",
      "\u001B[1;31mNameError\u001B[0m                                 Traceback (most recent call last)",
      "Cell \u001B[1;32mIn[16], line 4\u001B[0m\n\u001B[0;32m      2\u001B[0m n1 \u001B[38;5;241m=\u001B[39m nn\u001B[38;5;241m.\u001B[39mLinear(\u001B[38;5;241m20\u001B[39m, \u001B[38;5;241m256\u001B[39m)\n\u001B[0;32m      3\u001B[0m n2 \u001B[38;5;241m=\u001B[39m nn\u001B[38;5;241m.\u001B[39mLinear(\u001B[38;5;241m20\u001B[39m, \u001B[38;5;241m128\u001B[39m)\n\u001B[1;32m----> 4\u001B[0m p \u001B[38;5;241m=\u001B[39m \u001B[43mMyParallel\u001B[49m(n1,n2)\n\u001B[0;32m      5\u001B[0m \u001B[38;5;28mprint\u001B[39m(p(X)\u001B[38;5;241m.\u001B[39mshape, p(X))\n\u001B[0;32m      6\u001B[0m \u001B[38;5;28mprint\u001B[39m(p)\n",
      "\u001B[1;31mNameError\u001B[0m: name 'MyParallel' is not defined"
     ]
    }
   ],
   "source": [
    "X = torch.rand(2, 20)\n",
    "n1 = nn.Linear(20, 256)\n",
    "n2 = nn.Linear(20, 128)\n",
    "p = MyParallel(n1,n2)\n",
    "print(p(X).shape, p(X))\n",
    "print(p)"
   ],
   "metadata": {
    "collapsed": false,
    "ExecuteTime": {
     "end_time": "2023-12-12T11:59:44.627093100Z",
     "start_time": "2023-12-12T11:59:44.600781400Z"
    }
   },
   "id": "2af24ac339201d1d"
  },
  {
   "cell_type": "code",
   "execution_count": null,
   "outputs": [],
   "source": [],
   "metadata": {
    "collapsed": false
   },
   "id": "9164a5c09798b5dd"
  }
 ],
 "metadata": {
  "kernelspec": {
   "display_name": "Python 3",
   "language": "python",
   "name": "python3"
  },
  "language_info": {
   "codemirror_mode": {
    "name": "ipython",
    "version": 2
   },
   "file_extension": ".py",
   "mimetype": "text/x-python",
   "name": "python",
   "nbconvert_exporter": "python",
   "pygments_lexer": "ipython2",
   "version": "2.7.6"
  }
 },
 "nbformat": 4,
 "nbformat_minor": 5
}
