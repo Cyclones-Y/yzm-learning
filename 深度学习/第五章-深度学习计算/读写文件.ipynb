{
 "cells": [
  {
   "cell_type": "markdown",
   "source": [
    "## 读写文件"
   ],
   "metadata": {
    "collapsed": false
   },
   "id": "db9cf537ff7aeb82"
  },
  {
   "cell_type": "markdown",
   "source": [
    "### 加载和保存张量"
   ],
   "metadata": {
    "collapsed": false
   },
   "id": "a2156c5625dfba36"
  },
  {
   "cell_type": "code",
   "execution_count": 2,
   "outputs": [
    {
     "data": {
      "text/plain": "tensor([0, 1, 2, 3])"
     },
     "execution_count": 2,
     "metadata": {},
     "output_type": "execute_result"
    }
   ],
   "source": [
    "import torch \n",
    "from torch import nn \n",
    "from torch.nn import functional as F\n",
    "\n",
    "x = torch.arange(4)\n",
    "torch.save(x, 'x-file')\n",
    "x"
   ],
   "metadata": {
    "collapsed": false,
    "ExecuteTime": {
     "end_time": "2023-12-21T06:00:01.577934600Z",
     "start_time": "2023-12-21T06:00:01.562306800Z"
    }
   },
   "id": "c021d9976255d2a5"
  },
  {
   "cell_type": "markdown",
   "source": [
    "我们现在可以将存储在文件中的数据读回内存。"
   ],
   "metadata": {
    "collapsed": false
   },
   "id": "9d900fe1b2cab658"
  },
  {
   "cell_type": "code",
   "execution_count": 4,
   "outputs": [
    {
     "data": {
      "text/plain": "tensor([0, 1, 2, 3])"
     },
     "execution_count": 4,
     "metadata": {},
     "output_type": "execute_result"
    }
   ],
   "source": [
    "x2 = torch.load('x-file')\n",
    "x2"
   ],
   "metadata": {
    "collapsed": false,
    "ExecuteTime": {
     "end_time": "2023-12-20T11:24:49.983389300Z",
     "start_time": "2023-12-20T11:24:49.920943800Z"
    }
   },
   "id": "17169946917c7c9"
  },
  {
   "cell_type": "markdown",
   "source": [
    "我们可以存储一个张量列表，然后把它们读回内存。"
   ],
   "metadata": {
    "collapsed": false
   },
   "id": "e791dc9811dd39e"
  },
  {
   "cell_type": "code",
   "execution_count": 8,
   "outputs": [
    {
     "data": {
      "text/plain": "(tensor([0, 1, 2, 3]), tensor([0., 0., 0., 0.]))"
     },
     "execution_count": 8,
     "metadata": {},
     "output_type": "execute_result"
    }
   ],
   "source": [
    "y = torch.zeros(4)\n",
    "torch.save([x, y],'x-files')\n",
    "x2, y2 = torch.load('x-files')\n",
    "(x2,y2)"
   ],
   "metadata": {
    "collapsed": false,
    "ExecuteTime": {
     "end_time": "2023-12-21T06:02:48.979209500Z",
     "start_time": "2023-12-21T06:02:48.963538400Z"
    }
   },
   "id": "dd8a9946df3b42cc"
  },
  {
   "cell_type": "markdown",
   "source": [
    "甚至可以写入或读取从字符串映射到张量的字典。 当我们要读取或写入模型中的所有权重时，这很方便。"
   ],
   "metadata": {
    "collapsed": false
   },
   "id": "3dc3c67cc8dfde81"
  },
  {
   "cell_type": "code",
   "execution_count": 12,
   "outputs": [
    {
     "data": {
      "text/plain": "{'x': tensor([0, 1, 2, 3]), 'y': tensor([0., 0., 0., 0.])}"
     },
     "execution_count": 12,
     "metadata": {},
     "output_type": "execute_result"
    }
   ],
   "source": [
    "mydict = {'x':x, 'y':y}\n",
    "torch.save(mydict,'mydict')\n",
    "mydict2 = torch.load('mydict')\n",
    "mydict2"
   ],
   "metadata": {
    "collapsed": false,
    "ExecuteTime": {
     "end_time": "2023-12-21T06:05:19.857034300Z",
     "start_time": "2023-12-21T06:05:19.794459Z"
    }
   },
   "id": "e41338f00b0bc5b5"
  },
  {
   "cell_type": "markdown",
   "source": [
    "### 加载和保存模型参数"
   ],
   "metadata": {
    "collapsed": false
   },
   "id": "6a1a06fa180d7dc1"
  },
  {
   "cell_type": "markdown",
   "source": [
    "保存单个权重向量（或其他张量）确实有用， 但是如果我们想保存整个模型，并在以后加载它们， 单独保存每个向量则会变得很麻烦。 毕竟，我们可能有数百个参数散布在各处。 因此，深度学习框架提供了内置函数来保存和加载整个网络。 需要注意的一个重要细节是，这将保存模型的参数而不是保存整个模型。 例如，如果我们有一个3层多层感知机，我们需要单独指定架构。 因为模型本身可以包含任意代码，所以模型本身难以序列化。 因此，为了恢复模型，我们需要用代码生成架构， 然后从磁盘加载参数。 让我们从熟悉的多层感知机开始尝试一下。"
   ],
   "metadata": {
    "collapsed": false
   },
   "id": "4c693432ce09f887"
  },
  {
   "cell_type": "code",
   "execution_count": 25,
   "outputs": [],
   "source": [
    "class MLP(nn.Module):\n",
    "    def __init__(self):\n",
    "        super().__init__()\n",
    "        self.hidden = nn.Linear(20, 256)\n",
    "        self.output = nn.Linear(256, 10)\n",
    "    \n",
    "    def forward(self, x):\n",
    "        return self.output(F.relu(self.hidden(x)))\n",
    "\n",
    "net = MLP()\n",
    "X = torch.randn(size=(2, 20))\n",
    "Y = net(X)"
   ],
   "metadata": {
    "collapsed": false,
    "ExecuteTime": {
     "end_time": "2023-12-21T08:27:20.786999400Z",
     "start_time": "2023-12-21T08:27:20.771347800Z"
    }
   },
   "id": "b56cbc0299532d46"
  },
  {
   "cell_type": "markdown",
   "source": [
    "接下来，我们将模型的参数存储在一个叫做“mlp.params”的文件中。"
   ],
   "metadata": {
    "collapsed": false
   },
   "id": "745e545446692e3e"
  },
  {
   "cell_type": "code",
   "execution_count": 73,
   "outputs": [],
   "source": [
    "torch.save(net.state_dict(), 'mlp.params')"
   ],
   "metadata": {
    "collapsed": false,
    "ExecuteTime": {
     "end_time": "2023-12-21T08:36:50.871714600Z",
     "start_time": "2023-12-21T08:36:50.840358400Z"
    }
   },
   "id": "721efbc4c3db4db5"
  },
  {
   "cell_type": "markdown",
   "source": [
    "由于两个实例具有相同的模型参数，在输入相同的X时， 两个实例的计算结果应该相同。 让我们来验证一下。"
   ],
   "metadata": {
    "collapsed": false
   },
   "id": "99714ea79460df1d"
  },
  {
   "cell_type": "code",
   "execution_count": 74,
   "outputs": [
    {
     "data": {
      "text/plain": "MLP(\n  (hidden): Linear(in_features=20, out_features=256, bias=True)\n  (output): Linear(in_features=256, out_features=10, bias=True)\n)"
     },
     "execution_count": 74,
     "metadata": {},
     "output_type": "execute_result"
    }
   ],
   "source": [
    "clone = MLP()\n",
    "clone.load_state_dict(torch.load('mlp.params'))\n",
    "clone.eval()"
   ],
   "metadata": {
    "collapsed": false,
    "ExecuteTime": {
     "end_time": "2023-12-21T08:36:53.571957500Z",
     "start_time": "2023-12-21T08:36:53.540677500Z"
    }
   },
   "id": "aff75162fe4bac2a"
  },
  {
   "cell_type": "code",
   "execution_count": 76,
   "outputs": [
    {
     "data": {
      "text/plain": "tensor([[True, True, True, True, True, True, True, True, True, True],\n        [True, True, True, True, True, True, True, True, True, True]])"
     },
     "execution_count": 76,
     "metadata": {},
     "output_type": "execute_result"
    }
   ],
   "source": [
    "Y_clone = clone(X)\n",
    "Y_clone == Y "
   ],
   "metadata": {
    "collapsed": false,
    "ExecuteTime": {
     "end_time": "2023-12-21T08:40:05.614201300Z",
     "start_time": "2023-12-21T08:40:05.582953900Z"
    }
   },
   "id": "36b5b44f538bb88e"
  },
  {
   "cell_type": "code",
   "execution_count": 77,
   "outputs": [
    {
     "name": "stdout",
     "output_type": "stream",
     "text": [
      "Thu Dec 21 16:40:11 2023       \n",
      "+-----------------------------------------------------------------------------+\n",
      "| NVIDIA-SMI 456.71       Driver Version: 456.71       CUDA Version: 11.1     |\n",
      "|-------------------------------+----------------------+----------------------+\n",
      "| GPU  Name            TCC/WDDM | Bus-Id        Disp.A | Volatile Uncorr. ECC |\n",
      "| Fan  Temp  Perf  Pwr:Usage/Cap|         Memory-Usage | GPU-Util  Compute M. |\n",
      "|===============================+======================+======================|\n",
      "|   0  GeForce GTX 106... WDDM  | 00000000:01:00.0  On |                  N/A |\n",
      "| 36%   42C    P0    31W / 120W |    295MiB /  3072MiB |      0%      Default |\n",
      "+-------------------------------+----------------------+----------------------+\n",
      "                                                                               \n",
      "+-----------------------------------------------------------------------------+\n",
      "| Processes:                                                                  |\n",
      "|  GPU   GI   CI        PID   Type   Process name                  GPU Memory |\n",
      "|        ID   ID                                                   Usage      |\n",
      "|=============================================================================|\n",
      "|    0   N/A  N/A      1380    C+G   Insufficient Permissions        N/A      |\n",
      "|    0   N/A  N/A      5456    C+G   C:\\Windows\\explorer.exe         N/A      |\n",
      "|    0   N/A  N/A     12552    C+G   ...ZE4OA5ZMSNU5MHA\\DeepL.exe    N/A      |\n",
      "+-----------------------------------------------------------------------------+\n"
     ]
    }
   ],
   "source": [
    "!nvidia-smi"
   ],
   "metadata": {
    "collapsed": false,
    "ExecuteTime": {
     "end_time": "2023-12-21T08:40:11.905653600Z",
     "start_time": "2023-12-21T08:40:11.674303900Z"
    }
   },
   "id": "4467ad95e25fccfc"
  }
 ],
 "metadata": {
  "kernelspec": {
   "display_name": "Python 3",
   "language": "python",
   "name": "python3"
  },
  "language_info": {
   "codemirror_mode": {
    "name": "ipython",
    "version": 2
   },
   "file_extension": ".py",
   "mimetype": "text/x-python",
   "name": "python",
   "nbconvert_exporter": "python",
   "pygments_lexer": "ipython2",
   "version": "2.7.6"
  }
 },
 "nbformat": 4,
 "nbformat_minor": 5
}
