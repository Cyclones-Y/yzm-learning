{
 "cells": [
  {
   "cell_type": "markdown",
   "source": [
    "## 不带参数的层"
   ],
   "metadata": {
    "collapsed": false
   },
   "id": "2ef3486fc531fd0a"
  },
  {
   "cell_type": "code",
   "execution_count": 3,
   "outputs": [
    {
     "data": {
      "text/plain": "tensor([-2., -1.,  0.,  1.,  2.])"
     },
     "execution_count": 3,
     "metadata": {},
     "output_type": "execute_result"
    }
   ],
   "source": [
    "import torch\n",
    "import torch.nn.functional as F\n",
    "from torch import nn\n",
    "\n",
    "class CenteredLayer(nn.Module):\n",
    "    def __init__(self):\n",
    "        super().__init__()\n",
    "        \n",
    "    def forward(self, X):\n",
    "        return X - X.mean()\n",
    "    \n",
    "lay = CenteredLayer()\n",
    "lay(torch.FloatTensor([1,2,3,4,5]))"
   ],
   "metadata": {
    "collapsed": false,
    "ExecuteTime": {
     "end_time": "2023-12-16T01:27:16.037442600Z",
     "start_time": "2023-12-16T01:27:16.012819Z"
    }
   },
   "id": "d5a7ad5cf806b5b5"
  },
  {
   "cell_type": "code",
   "execution_count": 5,
   "outputs": [],
   "source": [
    "net = nn.Sequential(nn.Linear(8, 128), CenteredLayer())"
   ],
   "metadata": {
    "collapsed": false,
    "ExecuteTime": {
     "end_time": "2023-12-16T01:42:18.016202100Z",
     "start_time": "2023-12-16T01:42:18.000579600Z"
    }
   },
   "id": "5b1c0c3f3f866651"
  },
  {
   "cell_type": "code",
   "execution_count": 10,
   "outputs": [
    {
     "data": {
      "text/plain": "tensor(-7.4506e-09, grad_fn=<MeanBackward0>)"
     },
     "execution_count": 10,
     "metadata": {},
     "output_type": "execute_result"
    }
   ],
   "source": [
    "Y = net(torch.rand(4,8))\n",
    "Y.mean()"
   ],
   "metadata": {
    "collapsed": false,
    "ExecuteTime": {
     "end_time": "2023-12-16T02:02:31.172598500Z",
     "start_time": "2023-12-16T02:02:31.156939500Z"
    }
   },
   "id": "13d1353e07ec0d8"
  },
  {
   "cell_type": "markdown",
   "source": [
    "## 带参数层"
   ],
   "metadata": {
    "collapsed": false
   },
   "id": "f0ee146d7726309b"
  },
  {
   "cell_type": "code",
   "execution_count": 84,
   "outputs": [],
   "source": [
    "class Mylinear(nn.Module):\n",
    "    def __init__(self, in_units, units):\n",
    "        super().__init__()\n",
    "        self.weight = nn.Parameter(torch.randn(in_units, units))\n",
    "        self.bias = nn.Parameter(torch.randn(units,))\n",
    "    def forward(self, X):\n",
    "        linear = torch.matmul(X, self.weight.data) + self.bias.data\n",
    "        return F.relu(linear)"
   ],
   "metadata": {
    "collapsed": false,
    "ExecuteTime": {
     "end_time": "2023-12-16T02:54:50.717291200Z",
     "start_time": "2023-12-16T02:54:50.703673900Z"
    }
   },
   "id": "c1c5296130d96fb8"
  },
  {
   "cell_type": "markdown",
   "source": [
    "### 实例化模型访问参数"
   ],
   "metadata": {
    "collapsed": false
   },
   "id": "3dab8cbf1d6325f3"
  },
  {
   "cell_type": "code",
   "execution_count": 102,
   "outputs": [
    {
     "data": {
      "text/plain": "Parameter containing:\ntensor([[-0.8025, -0.2613,  1.5471],\n        [ 1.8941, -0.7832, -0.2376],\n        [ 0.0879,  1.1717,  0.9088],\n        [-0.1999, -1.5677, -0.4511],\n        [ 0.8873, -0.3356,  0.1916]], requires_grad=True)"
     },
     "execution_count": 102,
     "metadata": {},
     "output_type": "execute_result"
    }
   ],
   "source": [
    "linear = Mylinear(5,3)\n",
    "linear.weight"
   ],
   "metadata": {
    "collapsed": false,
    "ExecuteTime": {
     "end_time": "2023-12-16T02:59:11.446010900Z",
     "start_time": "2023-12-16T02:59:11.430494400Z"
    }
   },
   "id": "2f4e6512596240d2"
  },
  {
   "cell_type": "markdown",
   "source": [
    "### 使用自定义层直接执行前向传播计算。\n",
    "生成的数据'X'为两行五列的数据，意识是为两个样本批次，每个样本5个特征，满足在Mylinear层定义的in_units=5,\n",
    "在输出的时候会输出3个样本特征为‘units’=3，两个批次"
   ],
   "metadata": {
    "collapsed": false
   },
   "id": "92d4322edc416e46"
  },
  {
   "cell_type": "code",
   "execution_count": 109,
   "outputs": [
    {
     "data": {
      "text/plain": "tensor([[1.8377, 0.0000, 0.0000],\n        [2.7801, 0.0000, 0.0000]])"
     },
     "execution_count": 109,
     "metadata": {},
     "output_type": "execute_result"
    }
   ],
   "source": [
    "linear(torch.rand(2, 5))\n"
   ],
   "metadata": {
    "collapsed": false,
    "ExecuteTime": {
     "end_time": "2023-12-16T03:23:54.533116500Z",
     "start_time": "2023-12-16T03:23:54.513695200Z"
    }
   },
   "id": "d995f312d419c754"
  },
  {
   "cell_type": "markdown",
   "source": [
    "### 使用自定义层构建模型，就像使用内置的全连接层一样使用自定义层。"
   ],
   "metadata": {
    "collapsed": false
   },
   "id": "d3c68ad3feb7caf7"
  },
  {
   "cell_type": "code",
   "execution_count": 99,
   "outputs": [
    {
     "data": {
      "text/plain": "tensor([[0.4614],\n        [6.7438]])"
     },
     "execution_count": 99,
     "metadata": {},
     "output_type": "execute_result"
    }
   ],
   "source": [
    "net = nn.Sequential(Mylinear(64, 8), Mylinear(8, 1))\n",
    "net(torch.rand(2,64))"
   ],
   "metadata": {
    "collapsed": false,
    "ExecuteTime": {
     "end_time": "2023-12-16T02:57:11.235365900Z",
     "start_time": "2023-12-16T02:57:11.187949200Z"
    }
   },
   "id": "cad5fc4038137230"
  }
 ],
 "metadata": {
  "kernelspec": {
   "display_name": "Python 3",
   "language": "python",
   "name": "python3"
  },
  "language_info": {
   "codemirror_mode": {
    "name": "ipython",
    "version": 2
   },
   "file_extension": ".py",
   "mimetype": "text/x-python",
   "name": "python",
   "nbconvert_exporter": "python",
   "pygments_lexer": "ipython2",
   "version": "2.7.6"
  }
 },
 "nbformat": 4,
 "nbformat_minor": 5
}
