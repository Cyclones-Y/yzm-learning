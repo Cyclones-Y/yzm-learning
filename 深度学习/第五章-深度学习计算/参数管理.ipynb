{
 "cells": [
  {
   "cell_type": "code",
   "execution_count": 10,
   "id": "initial_id",
   "metadata": {
    "collapsed": true,
    "ExecuteTime": {
     "end_time": "2023-12-15T01:53:12.156250200Z",
     "start_time": "2023-12-15T01:53:12.145112800Z"
    }
   },
   "outputs": [
    {
     "data": {
      "text/plain": "tensor([[ 0.0256],\n        [-0.1540],\n        [-0.0315],\n        [-0.0065]], grad_fn=<AddmmBackward0>)"
     },
     "execution_count": 10,
     "metadata": {},
     "output_type": "execute_result"
    }
   ],
   "source": [
    "import torch\n",
    "from torch import nn\n",
    "\n",
    "net = nn.Sequential(nn.Linear(4, 8), nn.ReLU(), nn.Linear(8, 1))\n",
    "X = torch.rand(size=(4, 4))\n",
    "net(X)"
   ]
  },
  {
   "cell_type": "markdown",
   "source": [
    "### 参数的访问\n"
   ],
   "metadata": {
    "collapsed": false
   },
   "id": "6fbc3d1f3248c2d"
  },
  {
   "cell_type": "code",
   "execution_count": 67,
   "outputs": [
    {
     "name": "stdout",
     "output_type": "stream",
     "text": [
      "OrderedDict([('weight', tensor([[-0.2551,  0.0968, -0.0961,  0.2926,  0.1628,  0.2170, -0.1718,  0.0540]])), ('bias', tensor([-0.2362]))])\n"
     ]
    }
   ],
   "source": [
    "print(net[-1].state_dict())\n"
   ],
   "metadata": {
    "collapsed": false,
    "ExecuteTime": {
     "end_time": "2023-12-13T05:47:12.967201500Z",
     "start_time": "2023-12-13T05:47:12.951177900Z"
    }
   },
   "id": "b0114c214f5d0e6e"
  },
  {
   "cell_type": "markdown",
   "source": [
    "### 目标参数"
   ],
   "metadata": {
    "collapsed": false
   },
   "id": "594b3825b34e55e1"
  },
  {
   "cell_type": "code",
   "execution_count": 42,
   "outputs": [
    {
     "name": "stdout",
     "output_type": "stream",
     "text": [
      "<class 'torch.nn.parameter.Parameter'>\n",
      "Parameter containing:\n",
      "tensor([0.0988], requires_grad=True)\n",
      "tensor([0.0988])\n"
     ]
    }
   ],
   "source": [
    "print(type(net[2].bias))\n",
    "print(net[2].bias)\n",
    "print(net[2].bias.data)"
   ],
   "metadata": {
    "collapsed": false,
    "ExecuteTime": {
     "end_time": "2023-12-13T05:19:44.019740800Z",
     "start_time": "2023-12-13T05:19:43.986671300Z"
    }
   },
   "id": "383cd781dbdc7cee"
  },
  {
   "cell_type": "code",
   "execution_count": 43,
   "outputs": [
    {
     "data": {
      "text/plain": "True"
     },
     "execution_count": 43,
     "metadata": {},
     "output_type": "execute_result"
    }
   ],
   "source": [
    "net[2].weight.grad == None"
   ],
   "metadata": {
    "collapsed": false,
    "ExecuteTime": {
     "end_time": "2023-12-13T05:21:10.712649800Z",
     "start_time": "2023-12-13T05:21:10.684670200Z"
    }
   },
   "id": "ba8312c5c5e7f93c"
  },
  {
   "cell_type": "markdown",
   "source": [
    "### 一次性访问所有参数"
   ],
   "metadata": {
    "collapsed": false
   },
   "id": "67cbd5799b134bd5"
  },
  {
   "cell_type": "code",
   "execution_count": 47,
   "outputs": [
    {
     "name": "stdout",
     "output_type": "stream",
     "text": [
      "('weight', torch.Size([8, 4])) ('bias', torch.Size([8]))\n",
      "('0.weight', torch.Size([8, 4])) ('0.bias', torch.Size([8])) ('2.weight', torch.Size([1, 8])) ('2.bias', torch.Size([1]))\n"
     ]
    }
   ],
   "source": [
    "print(*[(name, param.shape) for name, param in net[0].named_parameters()])\n",
    "print(*[(name, param.shape) for name, param in net.named_parameters()])"
   ],
   "metadata": {
    "collapsed": false,
    "ExecuteTime": {
     "end_time": "2023-12-13T05:39:49.532352900Z",
     "start_time": "2023-12-13T05:39:49.514323300Z"
    }
   },
   "id": "395a80178f8f5936"
  },
  {
   "cell_type": "markdown",
   "source": [
    "### 另一种访问网络参数的方式"
   ],
   "metadata": {
    "collapsed": false
   },
   "id": "75851d1df6dcb9d6"
  },
  {
   "cell_type": "code",
   "execution_count": 78,
   "outputs": [
    {
     "data": {
      "text/plain": "tensor([[ 0.3638,  0.0163,  0.3752,  0.0682],\n        [ 0.3603, -0.2424,  0.2326, -0.0673],\n        [ 0.0213, -0.0546,  0.3088,  0.3284],\n        [ 0.4775, -0.3056,  0.0288,  0.3061],\n        [-0.2769, -0.4399,  0.3534, -0.3090],\n        [-0.4094, -0.2218, -0.1083,  0.2048],\n        [ 0.1376, -0.3175, -0.0053, -0.1794],\n        [ 0.2755,  0.0765,  0.2305,  0.3555]])"
     },
     "execution_count": 78,
     "metadata": {},
     "output_type": "execute_result"
    }
   ],
   "source": [
    "net.state_dict()['0.weight'].data"
   ],
   "metadata": {
    "collapsed": false,
    "ExecuteTime": {
     "end_time": "2023-12-13T06:23:00.750902600Z",
     "start_time": "2023-12-13T06:23:00.728877800Z"
    }
   },
   "id": "9faa4d1b00d25ffc"
  },
  {
   "cell_type": "markdown",
   "source": [
    "### 从嵌套块收集参数"
   ],
   "metadata": {
    "collapsed": false
   },
   "id": "1ef63859ee1b261f"
  },
  {
   "cell_type": "code",
   "execution_count": 115,
   "outputs": [
    {
     "data": {
      "text/plain": "tensor([[-0.4843],\n        [-0.4845],\n        [-0.4844],\n        [-0.4844]], grad_fn=<AddmmBackward0>)"
     },
     "execution_count": 115,
     "metadata": {},
     "output_type": "execute_result"
    }
   ],
   "source": [
    "def block1():\n",
    "    return nn.Sequential(nn.Linear(4, 8), nn.ReLU(),\n",
    "                         nn.Linear(8, 4), nn.ReLU())\n",
    "\n",
    "def block2():\n",
    "    net = nn.Sequential()\n",
    "    for i in range(4):\n",
    "        # 在这里嵌套\n",
    "        net.add_module(f'block {i}', block1())\n",
    "    return net\n",
    "\n",
    "rgnet = nn.Sequential(block2(), nn.Linear(4, 1))\n",
    "rgnet(X)\n"
   ],
   "metadata": {
    "collapsed": false,
    "ExecuteTime": {
     "end_time": "2023-12-13T06:29:41.870693300Z",
     "start_time": "2023-12-13T06:29:41.846668600Z"
    }
   },
   "id": "d2193178bdb2ea74"
  },
  {
   "cell_type": "markdown",
   "source": [
    "## 设计了网络后，我们看看它是如何工作的。\n"
   ],
   "metadata": {
    "collapsed": false
   },
   "id": "f6365a38a5e3ab53"
  },
  {
   "cell_type": "code",
   "execution_count": 116,
   "outputs": [
    {
     "name": "stdout",
     "output_type": "stream",
     "text": [
      "Sequential(\n",
      "  (0): Sequential(\n",
      "    (block 0): Sequential(\n",
      "      (0): Linear(in_features=4, out_features=8, bias=True)\n",
      "      (1): ReLU()\n",
      "      (2): Linear(in_features=8, out_features=4, bias=True)\n",
      "      (3): ReLU()\n",
      "    )\n",
      "    (block 1): Sequential(\n",
      "      (0): Linear(in_features=4, out_features=8, bias=True)\n",
      "      (1): ReLU()\n",
      "      (2): Linear(in_features=8, out_features=4, bias=True)\n",
      "      (3): ReLU()\n",
      "    )\n",
      "    (block 2): Sequential(\n",
      "      (0): Linear(in_features=4, out_features=8, bias=True)\n",
      "      (1): ReLU()\n",
      "      (2): Linear(in_features=8, out_features=4, bias=True)\n",
      "      (3): ReLU()\n",
      "    )\n",
      "    (block 3): Sequential(\n",
      "      (0): Linear(in_features=4, out_features=8, bias=True)\n",
      "      (1): ReLU()\n",
      "      (2): Linear(in_features=8, out_features=4, bias=True)\n",
      "      (3): ReLU()\n",
      "    )\n",
      "  )\n",
      "  (1): Linear(in_features=4, out_features=1, bias=True)\n",
      ")\n"
     ]
    }
   ],
   "source": [
    "print(rgnet)"
   ],
   "metadata": {
    "collapsed": false,
    "ExecuteTime": {
     "end_time": "2023-12-13T06:29:52.060384200Z",
     "start_time": "2023-12-13T06:29:52.043200600Z"
    }
   },
   "id": "6fd490260f9bd5c1"
  },
  {
   "cell_type": "code",
   "execution_count": 126,
   "outputs": [
    {
     "data": {
      "text/plain": "tensor([-0.4598,  0.3224,  0.3594,  0.0725, -0.0530,  0.1089,  0.2545,  0.3611])"
     },
     "execution_count": 126,
     "metadata": {},
     "output_type": "execute_result"
    }
   ],
   "source": [
    "# 因为层是分层嵌套的，所以我们也可以像通过嵌套列表索引一样访问它们。 下面，我们访问第一个主要的块中、第二个子块的第一层的偏置项。\n",
    "rgnet[0][1][0].bias.data"
   ],
   "metadata": {
    "collapsed": false,
    "ExecuteTime": {
     "end_time": "2023-12-13T06:39:21.162564900Z",
     "start_time": "2023-12-13T06:39:21.136495600Z"
    }
   },
   "id": "796a72b22e9b55be"
  },
  {
   "cell_type": "markdown",
   "source": [
    "## 参数初始化\n",
    "### 内置初始化\n",
    "\n",
    "让我们首先调用内置的初始化器。 下面的代码将所有权重参数初始化为标准差为0.01的高斯随机变量， 且将偏置参数设置为0。"
   ],
   "metadata": {
    "collapsed": false
   },
   "id": "756f466ae5ebbcf0"
  },
  {
   "cell_type": "code",
   "execution_count": 127,
   "outputs": [
    {
     "data": {
      "text/plain": "(tensor([ 7.2825e-05, -2.3680e-04,  4.4941e-03, -6.2984e-03]), tensor(0.))"
     },
     "execution_count": 127,
     "metadata": {},
     "output_type": "execute_result"
    }
   ],
   "source": [
    "def init_normal(m):\n",
    "    if type(m) == nn.Linear:\n",
    "        nn.init.normal_(m.weight, mean=0, std=0.01)\n",
    "        nn.init.zeros_(m.bias)\n",
    "net.apply(init_normal)\n",
    "net[0].weight.data[0], net[0].bias.data[0]"
   ],
   "metadata": {
    "collapsed": false,
    "ExecuteTime": {
     "end_time": "2023-12-13T06:48:04.133256700Z",
     "start_time": "2023-12-13T06:48:04.115258400Z"
    }
   },
   "id": "c89c0227ad22f69a"
  },
  {
   "cell_type": "markdown",
   "source": [
    "### 我们还可以将所有参数初始化为给定的常数，比如初始化为1。"
   ],
   "metadata": {
    "collapsed": false
   },
   "id": "d3eb3c5c8d7da060"
  },
  {
   "cell_type": "code",
   "execution_count": 7,
   "outputs": [
    {
     "data": {
      "text/plain": "(tensor([1., 1., 1., 1.]), tensor(0.))"
     },
     "execution_count": 7,
     "metadata": {},
     "output_type": "execute_result"
    }
   ],
   "source": [
    "def init_constant(m):\n",
    "    if type(m) == nn.Linear:\n",
    "        nn.init.constant_(m.weight, 1)\n",
    "        nn.init.zeros_(m.bias)\n",
    "net.apply(init_constant)\n",
    "net[0].weight.data[0], net[0].bias.data[0]"
   ],
   "metadata": {
    "collapsed": false,
    "ExecuteTime": {
     "end_time": "2023-12-15T01:45:56.989893900Z",
     "start_time": "2023-12-15T01:45:56.958337500Z"
    }
   },
   "id": "720ca8e4ceae42ba"
  },
  {
   "cell_type": "markdown",
   "source": [
    "### 我们还可以对某些块应用不同的初始化方法。 例如，下面我们使用Xavier初始化方法初始化第一个神经网络层， 然后将第三个神经网络层初始化为常量值42。"
   ],
   "metadata": {
    "collapsed": false
   },
   "id": "a672ea5b33e78662"
  },
  {
   "cell_type": "code",
   "execution_count": 13,
   "outputs": [
    {
     "name": "stdout",
     "output_type": "stream",
     "text": [
      "tensor([ 0.6187, -0.6256,  0.1356,  0.6567])\n",
      "tensor([42., 42., 42., 42., 42., 42., 42., 42.])\n"
     ]
    }
   ],
   "source": [
    "def init_xavier(m):\n",
    "    if type(m) == nn.Linear:\n",
    "        nn.init.xavier_uniform_(m.weight)\n",
    "\n",
    "def init_42(m):\n",
    "    if type(m) == nn.Linear:\n",
    "        nn.init.constant_(m.weight, 42)\n",
    "\n",
    "net[0].apply(init_xavier)\n",
    "net[2].apply(init_42)\n",
    "print(net[0].weight.data[0])\n",
    "print(net[2].weight.data[0])"
   ],
   "metadata": {
    "collapsed": false,
    "ExecuteTime": {
     "end_time": "2023-12-15T01:53:34.014712700Z",
     "start_time": "2023-12-15T01:53:33.986495700Z"
    }
   },
   "id": "e0ce6e0acfe37ffd"
  },
  {
   "cell_type": "markdown",
   "source": [
    "### 自定义初始化"
   ],
   "metadata": {
    "collapsed": false
   },
   "id": "a4a79770615c89b9"
  },
  {
   "cell_type": "code",
   "execution_count": 21,
   "outputs": [
    {
     "name": "stdout",
     "output_type": "stream",
     "text": [
      "Init weight torch.Size([8, 4])\n",
      "Init weight torch.Size([1, 8])\n"
     ]
    },
    {
     "data": {
      "text/plain": "tensor([[ 0.0000, -0.0000,  0.0000,  6.3677],\n        [-6.7339,  0.0000,  8.9807,  8.1806]], grad_fn=<SliceBackward0>)"
     },
     "execution_count": 21,
     "metadata": {},
     "output_type": "execute_result"
    }
   ],
   "source": [
    "def my_init(m):\n",
    "    if type(m) == nn.Linear:\n",
    "        print('Init',*[(name, param.shape) for name, param in m.named_parameters()][0])\n",
    "        nn.init.uniform_(m.weight, -10, 10)\n",
    "        m.weight.data *= m.weight.data.abs() >= 5\n",
    "net.apply(my_init)\n",
    "net[0].weight[:2]"
   ],
   "metadata": {
    "collapsed": false,
    "ExecuteTime": {
     "end_time": "2023-12-15T05:13:02.950701500Z",
     "start_time": "2023-12-15T05:13:02.920379600Z"
    }
   },
   "id": "5da76e19934df99a"
  },
  {
   "cell_type": "markdown",
   "source": [
    "### 注意，我们始终可以直接设置参数"
   ],
   "metadata": {
    "collapsed": false
   },
   "id": "5e39ac5751697b58"
  },
  {
   "cell_type": "code",
   "execution_count": 26,
   "outputs": [
    {
     "data": {
      "text/plain": "tensor([[44.0000, 44.0000, 44.0000, 44.0000],\n        [42.0000, 42.0000, 42.0000, 42.0000],\n        [ 5.0000,  5.0000,  5.0000, -3.0080],\n        [ 5.0000, -0.1148,  5.0000, 10.4332],\n        [14.7347, 12.2062,  5.0000, 11.0128],\n        [ 5.0000, -0.3276,  5.0000,  5.0000],\n        [ 5.0000,  5.0000, 14.9888,  5.0000],\n        [ 5.0000,  5.0000, 14.9611, 11.0141]])"
     },
     "execution_count": 26,
     "metadata": {},
     "output_type": "execute_result"
    }
   ],
   "source": [
    "net[0].weight.data[:] += 1\n",
    "net[0].weight.data[1] = 42\n",
    "net[0].weight.data[:]"
   ],
   "metadata": {
    "collapsed": false,
    "ExecuteTime": {
     "end_time": "2023-12-15T05:24:16.168911500Z",
     "start_time": "2023-12-15T05:24:16.122004600Z"
    }
   },
   "id": "dda2688e4103051d"
  },
  {
   "cell_type": "markdown",
   "source": [
    "## 参数绑定\n",
    "有时我们希望在多个层间共享参数： 我们可以定义一个稠密层，然后使用它的参数来设置另一个层的参数。"
   ],
   "metadata": {
    "collapsed": false
   },
   "id": "d01648bf6171ba10"
  },
  {
   "cell_type": "code",
   "execution_count": 32,
   "outputs": [
    {
     "name": "stdout",
     "output_type": "stream",
     "text": [
      "tensor([True, True, True, True, True, True, True, True])\n",
      "tensor([ 1.0000e+02, -1.4070e-01, -2.5368e-01,  3.5048e-02, -2.4149e-02,\n",
      "        -2.7130e-01,  1.9860e-01,  1.3410e-01]) tensor([ 1.0000e+02, -1.4070e-01, -2.5368e-01,  3.5048e-02, -2.4149e-02,\n",
      "        -2.7130e-01,  1.9860e-01,  1.3410e-01])\n"
     ]
    }
   ],
   "source": [
    "# 我们需要给共享层一个名称，以便可以引用它的参数\n",
    "shared = nn.Linear(8, 8)\n",
    "\n",
    "net = nn.Sequential(nn.Linear(4,8), nn.ReLU(),\n",
    "                    shared, nn.ReLU(), \n",
    "                    shared, nn.ReLU(),\n",
    "                    nn.Linear(8, 1))\n",
    "net(X)\n",
    "# 检查参数是否相同\n",
    "print(net[2].weight.data[0] == net[4].weight.data[0])\n",
    "net[2].weight.data[0, 0] = 100\n",
    "# 确保他们是一对象，而不是相同值\n",
    "print(net[2].weight.data[0],\n",
    "      net[4].weight.data[0])"
   ],
   "metadata": {
    "collapsed": false,
    "ExecuteTime": {
     "end_time": "2023-12-15T05:34:26.764567700Z",
     "start_time": "2023-12-15T05:34:26.741058500Z"
    }
   },
   "id": "5457a71363c8845b"
  }
 ],
 "metadata": {
  "kernelspec": {
   "display_name": "Python 3",
   "language": "python",
   "name": "python3"
  },
  "language_info": {
   "codemirror_mode": {
    "name": "ipython",
    "version": 2
   },
   "file_extension": ".py",
   "mimetype": "text/x-python",
   "name": "python",
   "nbconvert_exporter": "python",
   "pygments_lexer": "ipython2",
   "version": "2.7.6"
  }
 },
 "nbformat": 4,
 "nbformat_minor": 5
}
