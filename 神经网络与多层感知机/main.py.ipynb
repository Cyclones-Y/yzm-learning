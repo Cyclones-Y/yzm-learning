{
 "cells": [
  {
   "cell_type": "code",
   "execution_count": 14,
   "id": "initial_id",
   "metadata": {
    "collapsed": true,
    "ExecuteTime": {
     "end_time": "2023-11-29T03:38:12.577421300Z",
     "start_time": "2023-11-29T03:38:12.520975300Z"
    }
   },
   "outputs": [
    {
     "name": "stdout",
     "output_type": "stream",
     "text": [
      "数据大小： 1000\n",
      "[[ 1.7641  0.4002  0.    ]\n",
      " [ 0.9787  2.2409  0.    ]\n",
      " [ 1.8676 -0.9773  1.    ]\n",
      " [ 0.9501 -0.1514  1.    ]\n",
      " [-0.1032  0.4106  1.    ]]\n"
     ]
    }
   ],
   "source": [
    "import numpy as np \n",
    "import matplotlib.pyplot as plt\n",
    "\n",
    "# 导入数据\n",
    "data = np.loadtxt('xor_dataset.csv',delimiter=',')\n",
    "print(\"数据大小：\",len(data))\n",
    "print(data[:5])\n",
    "\n",
    "# 划分数据集\n",
    "ratio = 0.8\n",
    "split = int(ratio * len(data))\n",
    "data = np.random.permutation(data)\n",
    "# y的维度调整为(len(data),1),与后续模型的匹配\n",
    "x_train, y_train = data[:split, :2], data[:split,-1].reshape(-1,1)\n",
    "x_test, y_test = data[split:,:2],data[split:,-1].reshape(-1,1)"
   ]
  },
  {
   "cell_type": "markdown",
   "source": [
    "### 接下来，我们开始实现 MLP 中的具体内容。由于 MLP 的前馈结构，我们可以将其拆分成许多层。每一层都应当具备 3 个基本的功能：根据输入计算输出，计算参数的梯度，更新层参数。激活函数可以抽象为单独的一层，不具有参数。为了形式统一，我们先定义基类，再让不同的层都继承基类。"
   ],
   "metadata": {
    "collapsed": false
   },
   "id": "69fb2a06ade572ae"
  },
  {
   "cell_type": "code",
   "execution_count": 15,
   "outputs": [],
   "source": [
    "class Layer:\n",
    "    \n",
    "    # 前向传播函数，根据输入x计算该层的输出y\n",
    "    def forward(self,x):\n",
    "        raise NotADirectoryError\n",
    "    \n",
    "    # 方向传播函数，输入上一层回传的梯度grad，输出当前的梯度\n",
    "    def backward(self,grad):\n",
    "        raise NotADirectoryError\n",
    "    \n",
    "    # 更新函数，用于更新当前层的参数\n",
    "    def update(self, learning_rate):\n",
    "        pass"
   ],
   "metadata": {
    "collapsed": false,
    "ExecuteTime": {
     "end_time": "2023-11-29T03:38:12.641125900Z",
     "start_time": "2023-11-29T03:38:12.532978200Z"
    }
   },
   "id": "d569b9322fdcd6d8"
  },
  {
   "cell_type": "markdown",
   "source": [
    "## 全连接层。"
   ],
   "metadata": {
    "collapsed": false
   },
   "id": "6e7d2ea03349d4d9"
  },
  {
   "cell_type": "code",
   "execution_count": 23,
   "outputs": [],
   "source": [
    "class Linear(Layer):\n",
    "\n",
    "    def __init__(self, num_in, num_out, use_bias=True):\n",
    "        self.num_in = num_in # 输入维度\n",
    "        self.num_out = num_out # 输出维度\n",
    "        self.use_bias = use_bias # 是否添加偏置   \n",
    "\n",
    "        # 参数的初始化非常重要\n",
    "        # 如果把参数默认设置为0，会导致Wx=0，后续计算失去意义\n",
    "        # 我们直接用正态分布来初始化参数\n",
    "        self.W = np.random.normal(loc=0, scale=1.0, size=(num_in, num_out))\n",
    "        if use_bias: # 初始化偏置\n",
    "            self.b = np.zeros((1, num_out))\n",
    "\n",
    "    def forward(self, x):\n",
    "        # 前向传播y = Wx + b\n",
    "        # x的维度为(batch_size, num_in)\n",
    "        self.x = x\n",
    "        self.y = x @ self.W # y的维度为(batch_size, num_out)\n",
    "        if self.use_bias:\n",
    "            self.y += self.b\n",
    "        return self.y\n",
    "\n",
    "    def backward(self, grad):\n",
    "        # 反向传播，按照链式法则计算\n",
    "        # grad的维度为(batch_size, num_out)\n",
    "        # 梯度要对batch_size取平均\n",
    "        # grad_W的维度与W相同，为(num_in, num_out)\n",
    "        self.grad_W = self.x.T @ grad / grad.shape[0]\n",
    "        if self.use_bias:\n",
    "            # grad_b的维度与b相同，为(1, num_out)\n",
    "            self.grad_b = np.mean(grad, axis=0, keepdims=True)\n",
    "        # 向前传播的grad维度为(batch_size, num_in)\n",
    "        grad = grad @ self.W.T\n",
    "        return grad\n",
    "\n",
    "    def update(self, learning_rate):\n",
    "        # 更新参数以完成梯度下降\n",
    "        self.W -= learning_rate * self.grad_W\n",
    "        if self.use_bias:\n",
    "            self.b -= learning_rate * self.grad_b"
   ],
   "metadata": {
    "collapsed": false,
    "ExecuteTime": {
     "end_time": "2023-11-29T03:39:47.335903600Z",
     "start_time": "2023-11-29T03:39:47.317908300Z"
    }
   },
   "id": "aae564fb6606111c"
  },
  {
   "cell_type": "markdown",
   "source": [
    "## 激活函数"
   ],
   "metadata": {
    "collapsed": false
   },
   "id": "339577b3c4813534"
  },
  {
   "cell_type": "code",
   "execution_count": 22,
   "outputs": [],
   "source": [
    "class Identity(Layer):\n",
    "    # 单位函数\n",
    "\n",
    "    def forward(self, x):\n",
    "        return x\n",
    "\n",
    "    def backward(self, grad):\n",
    "        return grad\n",
    "\n",
    "\n",
    "class Sigmoid(Layer):\n",
    "    # 逻辑斯谛函数\n",
    "\n",
    "    def forward(self, x):\n",
    "        self.x = x\n",
    "        self.y = 1 / (1 + np.exp(-x))\n",
    "        return self.y\n",
    "\n",
    "    def backward(self, grad):\n",
    "        return grad * self.y * (1 - self.y)\n",
    "\n",
    "\n",
    "class Tanh(Layer):\n",
    "    # tanh函数\n",
    "\n",
    "    def forward(self, x):\n",
    "        self.x = x\n",
    "        self.y = np.tanh(x)\n",
    "        return self.y\n",
    "\n",
    "    def backward(self, grad):\n",
    "        return grad * (1 - self.y ** 2)\n",
    "\n",
    "\n",
    "class ReLU(Layer):\n",
    "    # ReLU函数\n",
    "\n",
    "    def forward(self, x):\n",
    "        self.x = x\n",
    "        self.y = np.maximum(x, 0)\n",
    "        return self.y\n",
    "\n",
    "    def backward(self, grad):\n",
    "        return grad * (self.x >= 0)\n",
    "\n",
    "\n",
    "\n",
    "# 存储所有激活函数和对应名称，方便索引\n",
    "activation_dict = {\n",
    "    'identity': Identity,\n",
    "    'sigmoid': Sigmoid,\n",
    "    'tanh': Tanh,\n",
    "    'relu': ReLU\n",
    "}"
   ],
   "metadata": {
    "collapsed": false,
    "ExecuteTime": {
     "end_time": "2023-11-29T03:39:37.614659500Z",
     "start_time": "2023-11-29T03:39:37.586380600Z"
    }
   },
   "id": "74e07aa9960b34a6"
  },
  {
   "cell_type": "markdown",
   "source": [
    "## 全连接层和激活函数层依次拼起来"
   ],
   "metadata": {
    "collapsed": false
   },
   "id": "8c0d0b2f56d33503"
  },
  {
   "cell_type": "code",
   "execution_count": 21,
   "outputs": [],
   "source": [
    "class MLP:\n",
    "\n",
    "    def __init__(\n",
    "        self,\n",
    "        layer_sizes, # 包含每层大小的list\n",
    "        use_bias=True,\n",
    "        activation='relu',\n",
    "        out_activation='identity'\n",
    "    ):\n",
    "        self.layers = []\n",
    "        num_in = layer_sizes[0]\n",
    "        for num_out in layer_sizes[1: -1]:\n",
    "            # 添加全连接层\n",
    "            self.layers.append(Linear(num_in, num_out, use_bias))\n",
    "            # 添加激活函数\n",
    "            self.layers.append(activation_dict[activation]())\n",
    "            num_in = num_out\n",
    "        # 由于输出需要满足任务的一些要求\n",
    "        # 例如二分类任务需要输出[0,1]之间的概率值\n",
    "        # 因此最后一层通常做特殊处理\n",
    "        self.layers.append(Linear(num_in, layer_sizes[-1], use_bias))\n",
    "        self.layers.append(activation_dict[out_activation]())\n",
    "\n",
    "    def forward(self, x):\n",
    "        # 前向传播，将输入依次通过每一层\n",
    "        for layer in self.layers:\n",
    "            x = layer.forward(x)\n",
    "        return x\n",
    "\n",
    "    def backward(self, grad):\n",
    "        # 反向传播，grad为损失函数对输出的梯度\n",
    "        # 将该梯度依次回传，得到每一层参数的梯度\n",
    "        for layer in reversed(self.layers):\n",
    "            grad = layer.backward(grad)\n",
    "\n",
    "    def update(self, learning_rate):\n",
    "        # 更新每一层的参数\n",
    "        for layer in self.layers:\n",
    "            layer.update(learning_rate)"
   ],
   "metadata": {
    "collapsed": false,
    "ExecuteTime": {
     "end_time": "2023-11-29T03:39:28.990900700Z",
     "start_time": "2023-11-29T03:39:28.959650700Z"
    }
   },
   "id": "e23a3056585f4129"
  },
  {
   "cell_type": "markdown",
   "source": [
    "最后，我们可以直接将封装好的 MLP 当作一个黑盒子使用，并用梯度下降法进行训练。在本例中，异或数据集属于二分类任务，因此我们采用交叉熵损失，具体的训练过程如下。"
   ],
   "metadata": {
    "collapsed": false
   },
   "id": "285731a804df1b2e"
  },
  {
   "cell_type": "code",
   "execution_count": 29,
   "outputs": [
    {
     "name": "stdout",
     "output_type": "stream",
     "text": [
      "测试精度： 0.98\n"
     ]
    },
    {
     "data": {
      "text/plain": "<Figure size 1600x600 with 2 Axes>",
      "image/png": "[encoded data removed]"
     },
     "metadata": {},
     "output_type": "display_data"
    }
   ],
   "source": [
    "# 设置超参数\n",
    "num_epochs = 1000\n",
    "learning_rate = 0.1\n",
    "batch_size = 128\n",
    "eps=1e-7 # 用于防止除以0、log(0)等数学问题\n",
    "\n",
    "# 创建一个层大小依次为[2, 4, 1]的多层感知机\n",
    "# 对于二分类任务，我们用sigmoid作为输出层的激活函数，使其输出在[0,1]之间\n",
    "mlp = MLP(layer_sizes=[2, 18, 1], use_bias=True, out_activation='sigmoid')\n",
    "\n",
    "# 训练过程\n",
    "losses = []\n",
    "test_losses = []\n",
    "test_accs = []\n",
    "for epoch in range(num_epochs):\n",
    "    # 我们实现的MLP支持批量输入，因此采用SGD算法\n",
    "    st = 0\n",
    "    loss = 0.0\n",
    "    while True:\n",
    "        ed = min(st + batch_size, len(x_train))\n",
    "        if st >= ed:\n",
    "            break\n",
    "        # 取出batch\n",
    "        x = x_train[st: ed]\n",
    "        y = y_train[st: ed]\n",
    "        # 计算MLP的预测\n",
    "        y_pred = mlp.forward(x)\n",
    "        # 计算梯度∂J/∂y\n",
    "        grad = (y_pred - y) / (y_pred * (1 - y_pred) + eps)\n",
    "        # 反向传播\n",
    "        mlp.backward(grad)\n",
    "        # 更新参数\n",
    "        mlp.update(learning_rate)\n",
    "        # 计算交叉熵损失\n",
    "        train_loss = np.sum(-y * np.log(y_pred + eps) \\\n",
    "            - (1 - y) * np.log(1 - y_pred + eps))\n",
    "        loss += train_loss\n",
    "        st += batch_size\n",
    "\n",
    "    losses.append(loss / len(x_train))\n",
    "    # 计算测试集上的交叉熵和精度\n",
    "    y_pred = mlp.forward(x_test)\n",
    "    test_loss = np.sum(-y_test * np.log(y_pred + eps) \\\n",
    "        - (1 - y_test) * np.log(1 - y_pred + eps)) / len(x_test)\n",
    "    test_acc = np.sum(np.round(y_pred) == y_test) / len(x_test)\n",
    "    test_losses.append(test_loss)\n",
    "    test_accs.append(test_acc)\n",
    "\n",
    "print('测试精度：', test_accs[-1])\n",
    "# 将损失变化进行可视化\n",
    "plt.figure(figsize=(16, 6))\n",
    "plt.subplot(121)\n",
    "plt.plot(losses, color='blue', label='train loss')\n",
    "plt.plot(test_losses, color='red', ls='--', label='test loss')\n",
    "plt.xlabel('Step')\n",
    "plt.ylabel('Loss')\n",
    "plt.title('Cross-Entropy Loss')\n",
    "plt.legend()\n",
    "\n",
    "plt.subplot(122)\n",
    "plt.plot(test_accs, color='red')\n",
    "plt.ylim(top=1.0)\n",
    "plt.xlabel('Step')\n",
    "plt.ylabel('Accuracy')\n",
    "plt.title('Test Accuracy')\n",
    "plt.show()"
   ],
   "metadata": {
    "collapsed": false,
    "ExecuteTime": {
     "end_time": "2023-11-29T06:27:53.610136400Z",
     "start_time": "2023-11-29T06:27:52.110281300Z"
    }
   },
   "id": "722d9e6e5d64070e"
  },
  {
   "cell_type": "markdown",
   "source": [
    "## 用PTorch库实现多层感知机\n",
    "下面，我们用另一个常见的机器学习库 PyTorch 来实现 MLP 模型。PyTorch 是一个功能强大的机器学习框架，包含完整的机器学习训练模块和机器自动求梯度功能。因此，我们只需要实现模型从输入到输出、再计算损失函数的过程，就可以用 PyTorch 内的工具自动计算损失函数的梯度，再用梯度下降算法更新参数，省去了繁琐的手动计算过程。PyTorch 由于其功能强大、结构简单，是目前最常用的机器学习框架之一。在 PyTorch 中，MLP 需要用到的层和激活函数都已提供好，我们只需按照 8.5 节中类似的方法将其组合在一起就可以了。"
   ],
   "metadata": {
    "collapsed": false
   },
   "id": "31e94867a72cb51d"
  },
  {
   "cell_type": "code",
   "execution_count": 31,
   "outputs": [],
   "source": [
    "import torch\n",
    "import torch.nn as nn\n",
    "from torch.nn.init import normal_ #正态分布初始化\n",
    "\n",
    "torch_activation_dict = {\n",
    "    'identity':lambda x:x,\n",
    "    'sigmoid':torch.sigmoid,\n",
    "    'tanh':torch.tanh,\n",
    "    'relu':torch.relu\n",
    "}\n",
    "\n",
    "class MLP_torch(nn.Module):\n",
    "    def __init__(\n",
    "            self,\n",
    "            layer_sizes,#包含每层大小的list\n",
    "            use_bias = True,\n",
    "            activation='relu',\n",
    "            out_activation='identity'\n",
    "    ):\n",
    "        super().__init__() #初始化父类\n",
    "        self.activation = torch_activation_dict[activation]\n",
    "        self.out_activation = torch_activation_dict[out_activation]\n",
    "        self.layers = nn.ModuleList() #moduleList以列表方式存储pytoch模块\n",
    "        num_in = layer_sizes[0]\n",
    "        for num_out in layer_sizes[1:]:\n",
    "            # 创建全连接层\n",
    "            self.layers.append(nn.Linear(num_in,num_out,bias=use_bias))\n",
    "            # 正态分布初始化，采用与前面手动实现时相同的方式\n",
    "            normal_(self.layers[-1].weight,std=1.0)\n",
    "            # 偏置项为全0\n",
    "            self.layers[-1].bias.data.fill_(0.0)\n",
    "            num_in = num_out\n",
    "            \n",
    "    def forward(self,x):\n",
    "        # 前向传播\n",
    "        # pytorch可以自行处理batch_size等维度问题\n",
    "        # 我们只需要让输入依次通过每一层即可\n",
    "        for i in range(len(self.layers)-1):\n",
    "            x = self.layers[i](x)\n",
    "            x = self.activation(x)\n",
    "        # 输出层\n",
    "        x = self.layers[-1](x)\n",
    "        x = self.out_activation(x)\n",
    "        return x"
   ],
   "metadata": {
    "collapsed": false,
    "ExecuteTime": {
     "end_time": "2023-11-29T08:08:03.088228900Z",
     "start_time": "2023-11-29T08:08:01.485113500Z"
    }
   },
   "id": "dde53ab8874466f6"
  },
  {
   "cell_type": "markdown",
   "source": [
    "最后，定义超参数，用相同的方式训练 PyTorch 模型，最终得到的结果与手动实现的相近。"
   ],
   "metadata": {
    "collapsed": false
   },
   "id": "a9894bbe8aa0317"
  },
  {
   "cell_type": "code",
   "execution_count": 54,
   "outputs": [
    {
     "ename": "KeyboardInterrupt",
     "evalue": "",
     "output_type": "error",
     "traceback": [
      "\u001B[1;31m---------------------------------------------------------------------------\u001B[0m",
      "\u001B[1;31mKeyboardInterrupt\u001B[0m                         Traceback (most recent call last)",
      "Cell \u001B[1;32mIn[54], line 43\u001B[0m\n\u001B[0;32m     41\u001B[0m train_loss\u001B[38;5;241m.\u001B[39mbackward()\n\u001B[0;32m     42\u001B[0m \u001B[38;5;66;03m# 更新参数\u001B[39;00m\n\u001B[1;32m---> 43\u001B[0m \u001B[43mopt\u001B[49m\u001B[38;5;241;43m.\u001B[39;49m\u001B[43mstep\u001B[49m\u001B[43m(\u001B[49m\u001B[43m)\u001B[49m\n\u001B[0;32m     45\u001B[0m \u001B[38;5;66;03m# 记录累加损失，需要先将损失从张量转为numpy格式\u001B[39;00m\n\u001B[0;32m     46\u001B[0m loss\u001B[38;5;241m.\u001B[39mappend(train_loss\u001B[38;5;241m.\u001B[39mdetach()\u001B[38;5;241m.\u001B[39mnumpy())\n",
      "File \u001B[1;32m~\\.conda\\envs\\yzm\\lib\\site-packages\\torch\\optim\\optimizer.py:113\u001B[0m, in \u001B[0;36mOptimizer._hook_for_profile.<locals>.profile_hook_step.<locals>.wrapper\u001B[1;34m(*args, **kwargs)\u001B[0m\n\u001B[0;32m    111\u001B[0m profile_name \u001B[38;5;241m=\u001B[39m \u001B[38;5;124m\"\u001B[39m\u001B[38;5;124mOptimizer.step#\u001B[39m\u001B[38;5;132;01m{}\u001B[39;00m\u001B[38;5;124m.step\u001B[39m\u001B[38;5;124m\"\u001B[39m\u001B[38;5;241m.\u001B[39mformat(obj\u001B[38;5;241m.\u001B[39m\u001B[38;5;18m__class__\u001B[39m\u001B[38;5;241m.\u001B[39m\u001B[38;5;18m__name__\u001B[39m)\n\u001B[0;32m    112\u001B[0m \u001B[38;5;28;01mwith\u001B[39;00m torch\u001B[38;5;241m.\u001B[39mautograd\u001B[38;5;241m.\u001B[39mprofiler\u001B[38;5;241m.\u001B[39mrecord_function(profile_name):\n\u001B[1;32m--> 113\u001B[0m     \u001B[38;5;28;01mreturn\u001B[39;00m func(\u001B[38;5;241m*\u001B[39margs, \u001B[38;5;241m*\u001B[39m\u001B[38;5;241m*\u001B[39mkwargs)\n",
      "File \u001B[1;32m~\\.conda\\envs\\yzm\\lib\\site-packages\\torch\\autograd\\grad_mode.py:26\u001B[0m, in \u001B[0;36m_DecoratorContextManager.__call__.<locals>.decorate_context\u001B[1;34m(*args, **kwargs)\u001B[0m\n\u001B[0;32m     24\u001B[0m \u001B[38;5;129m@functools\u001B[39m\u001B[38;5;241m.\u001B[39mwraps(func)\n\u001B[0;32m     25\u001B[0m \u001B[38;5;28;01mdef\u001B[39;00m \u001B[38;5;21mdecorate_context\u001B[39m(\u001B[38;5;241m*\u001B[39margs, \u001B[38;5;241m*\u001B[39m\u001B[38;5;241m*\u001B[39mkwargs):\n\u001B[1;32m---> 26\u001B[0m     \u001B[38;5;28;01mwith\u001B[39;00m \u001B[38;5;28mself\u001B[39m\u001B[38;5;241m.\u001B[39mclone():\n\u001B[0;32m     27\u001B[0m         \u001B[38;5;28;01mreturn\u001B[39;00m func(\u001B[38;5;241m*\u001B[39margs, \u001B[38;5;241m*\u001B[39m\u001B[38;5;241m*\u001B[39mkwargs)\n",
      "File \u001B[1;32m~\\.conda\\envs\\yzm\\lib\\site-packages\\torch\\autograd\\grad_mode.py:133\u001B[0m, in \u001B[0;36mno_grad.__enter__\u001B[1;34m(self)\u001B[0m\n\u001B[0;32m    131\u001B[0m \u001B[38;5;28;01mdef\u001B[39;00m \u001B[38;5;21m__enter__\u001B[39m(\u001B[38;5;28mself\u001B[39m) \u001B[38;5;241m-\u001B[39m\u001B[38;5;241m>\u001B[39m \u001B[38;5;28;01mNone\u001B[39;00m:\n\u001B[0;32m    132\u001B[0m     \u001B[38;5;28mself\u001B[39m\u001B[38;5;241m.\u001B[39mprev \u001B[38;5;241m=\u001B[39m torch\u001B[38;5;241m.\u001B[39mis_grad_enabled()\n\u001B[1;32m--> 133\u001B[0m     \u001B[43mtorch\u001B[49m\u001B[38;5;241;43m.\u001B[39;49m\u001B[43mset_grad_enabled\u001B[49m\u001B[43m(\u001B[49m\u001B[38;5;28;43;01mFalse\u001B[39;49;00m\u001B[43m)\u001B[49m\n",
      "File \u001B[1;32m~\\.conda\\envs\\yzm\\lib\\site-packages\\torch\\autograd\\grad_mode.py:229\u001B[0m, in \u001B[0;36mset_grad_enabled.__init__\u001B[1;34m(self, mode)\u001B[0m\n\u001B[0;32m    227\u001B[0m \u001B[38;5;28mself\u001B[39m\u001B[38;5;241m.\u001B[39mprev \u001B[38;5;241m=\u001B[39m torch\u001B[38;5;241m.\u001B[39mis_grad_enabled()\n\u001B[0;32m    228\u001B[0m torch\u001B[38;5;241m.\u001B[39m_C\u001B[38;5;241m.\u001B[39m_set_grad_enabled(mode)\n\u001B[1;32m--> 229\u001B[0m \u001B[38;5;28mself\u001B[39m\u001B[38;5;241m.\u001B[39mmode \u001B[38;5;241m=\u001B[39m \u001B[43mmode\u001B[49m\n",
      "File \u001B[1;32m~\\.conda\\envs\\yzm\\lib\\site-packages\\torch\\autograd\\grad_mode.py:229\u001B[0m, in \u001B[0;36mset_grad_enabled.__init__\u001B[1;34m(self, mode)\u001B[0m\n\u001B[0;32m    227\u001B[0m \u001B[38;5;28mself\u001B[39m\u001B[38;5;241m.\u001B[39mprev \u001B[38;5;241m=\u001B[39m torch\u001B[38;5;241m.\u001B[39mis_grad_enabled()\n\u001B[0;32m    228\u001B[0m torch\u001B[38;5;241m.\u001B[39m_C\u001B[38;5;241m.\u001B[39m_set_grad_enabled(mode)\n\u001B[1;32m--> 229\u001B[0m \u001B[38;5;28mself\u001B[39m\u001B[38;5;241m.\u001B[39mmode \u001B[38;5;241m=\u001B[39m \u001B[43mmode\u001B[49m\n",
      "File \u001B[1;32m_pydevd_bundle\\pydevd_cython_win32_39_64.pyx:1179\u001B[0m, in \u001B[0;36m_pydevd_bundle.pydevd_cython_win32_39_64.SafeCallWrapper.__call__\u001B[1;34m()\u001B[0m\n",
      "File \u001B[1;32m_pydevd_bundle\\pydevd_cython_win32_39_64.pyx:620\u001B[0m, in \u001B[0;36m_pydevd_bundle.pydevd_cython_win32_39_64.PyDBFrame.trace_dispatch\u001B[1;34m()\u001B[0m\n",
      "File \u001B[1;32m_pydevd_bundle\\pydevd_cython_win32_39_64.pyx:1095\u001B[0m, in \u001B[0;36m_pydevd_bundle.pydevd_cython_win32_39_64.PyDBFrame.trace_dispatch\u001B[1;34m()\u001B[0m\n",
      "File \u001B[1;32m_pydevd_bundle\\pydevd_cython_win32_39_64.pyx:1053\u001B[0m, in \u001B[0;36m_pydevd_bundle.pydevd_cython_win32_39_64.PyDBFrame.trace_dispatch\u001B[1;34m()\u001B[0m\n",
      "File \u001B[1;32mE:\\PyCharm 2023.2.3\\plugins\\python\\helpers-pro\\jupyter_debug\\pydev_jupyter_plugin.py:169\u001B[0m, in \u001B[0;36mstop\u001B[1;34m(plugin, pydb, frame, event, args, stop_info, arg, step_cmd)\u001B[0m\n\u001B[0;32m    167\u001B[0m     frame \u001B[38;5;241m=\u001B[39m suspend_jupyter(main_debugger, thread, frame, step_cmd)\n\u001B[0;32m    168\u001B[0m     \u001B[38;5;28;01mif\u001B[39;00m frame:\n\u001B[1;32m--> 169\u001B[0m         \u001B[43mmain_debugger\u001B[49m\u001B[38;5;241;43m.\u001B[39;49m\u001B[43mdo_wait_suspend\u001B[49m\u001B[43m(\u001B[49m\u001B[43mthread\u001B[49m\u001B[43m,\u001B[49m\u001B[43m \u001B[49m\u001B[43mframe\u001B[49m\u001B[43m,\u001B[49m\u001B[43m \u001B[49m\u001B[43mevent\u001B[49m\u001B[43m,\u001B[49m\u001B[43m \u001B[49m\u001B[43marg\u001B[49m\u001B[43m)\u001B[49m\n\u001B[0;32m    170\u001B[0m         \u001B[38;5;28;01mreturn\u001B[39;00m \u001B[38;5;28;01mTrue\u001B[39;00m\n\u001B[0;32m    171\u001B[0m \u001B[38;5;28;01mreturn\u001B[39;00m \u001B[38;5;28;01mFalse\u001B[39;00m\n",
      "File \u001B[1;32mE:\\PyCharm 2023.2.3\\plugins\\python\\helpers\\pydev\\pydevd.py:1160\u001B[0m, in \u001B[0;36mPyDB.do_wait_suspend\u001B[1;34m(self, thread, frame, event, arg, send_suspend_message, is_unhandled_exception)\u001B[0m\n\u001B[0;32m   1157\u001B[0m         from_this_thread\u001B[38;5;241m.\u001B[39mappend(frame_id)\n\u001B[0;32m   1159\u001B[0m \u001B[38;5;28;01mwith\u001B[39;00m \u001B[38;5;28mself\u001B[39m\u001B[38;5;241m.\u001B[39m_threads_suspended_single_notification\u001B[38;5;241m.\u001B[39mnotify_thread_suspended(thread_id, stop_reason):\n\u001B[1;32m-> 1160\u001B[0m     \u001B[38;5;28;43mself\u001B[39;49m\u001B[38;5;241;43m.\u001B[39;49m\u001B[43m_do_wait_suspend\u001B[49m\u001B[43m(\u001B[49m\u001B[43mthread\u001B[49m\u001B[43m,\u001B[49m\u001B[43m \u001B[49m\u001B[43mframe\u001B[49m\u001B[43m,\u001B[49m\u001B[43m \u001B[49m\u001B[43mevent\u001B[49m\u001B[43m,\u001B[49m\u001B[43m \u001B[49m\u001B[43marg\u001B[49m\u001B[43m,\u001B[49m\u001B[43m \u001B[49m\u001B[43msuspend_type\u001B[49m\u001B[43m,\u001B[49m\u001B[43m \u001B[49m\u001B[43mfrom_this_thread\u001B[49m\u001B[43m)\u001B[49m\n",
      "File \u001B[1;32mE:\\PyCharm 2023.2.3\\plugins\\python\\helpers\\pydev\\pydevd.py:1175\u001B[0m, in \u001B[0;36mPyDB._do_wait_suspend\u001B[1;34m(self, thread, frame, event, arg, suspend_type, from_this_thread)\u001B[0m\n\u001B[0;32m   1172\u001B[0m             \u001B[38;5;28mself\u001B[39m\u001B[38;5;241m.\u001B[39m_call_mpl_hook()\n\u001B[0;32m   1174\u001B[0m         \u001B[38;5;28mself\u001B[39m\u001B[38;5;241m.\u001B[39mprocess_internal_commands()\n\u001B[1;32m-> 1175\u001B[0m         \u001B[43mtime\u001B[49m\u001B[38;5;241;43m.\u001B[39;49m\u001B[43msleep\u001B[49m\u001B[43m(\u001B[49m\u001B[38;5;241;43m0.01\u001B[39;49m\u001B[43m)\u001B[49m\n\u001B[0;32m   1177\u001B[0m \u001B[38;5;28mself\u001B[39m\u001B[38;5;241m.\u001B[39mcancel_async_evaluation(get_current_thread_id(thread), \u001B[38;5;28mstr\u001B[39m(\u001B[38;5;28mid\u001B[39m(frame)))\n\u001B[0;32m   1179\u001B[0m \u001B[38;5;66;03m# process any stepping instructions\u001B[39;00m\n",
      "\u001B[1;31mKeyboardInterrupt\u001B[0m: "
     ]
    }
   ],
   "source": [
    "# 设置超参数\n",
    "num_epochs = 1000\n",
    "learning_rate = 0.1\n",
    "batch_size = 128\n",
    "eps = 1e-7\n",
    "torch.manual_seed(0)\n",
    "\n",
    "# 初始化MLP模型\n",
    "mlp = MLP_torch(layer_sizes=[2, 4, 1], use_bias=True,\n",
    "    out_activation='sigmoid')\n",
    "\n",
    "# 定义SGD优化器\n",
    "opt = torch.optim.SGD(mlp.parameters(), lr=learning_rate)\n",
    "\n",
    "# 训练过程\n",
    "losses = []\n",
    "test_losses = []\n",
    "test_accs = []\n",
    "for epoch in range(num_epochs):\n",
    "    st = 0\n",
    "    loss = []\n",
    "    while True:\n",
    "        ed = min(st + batch_size, len(x_train))\n",
    "        if st >= ed:\n",
    "            break\n",
    "        # 取出batch，转为张量\n",
    "        x = torch.tensor(x_train[st: ed],\n",
    "            dtype=torch.float32)\n",
    "        y = torch.tensor(y_train[st: ed],\n",
    "            dtype=torch.float32).reshape(-1, 1)\n",
    "        # 计算MLP的预测\n",
    "        # 调用模型时，PyTorch会自动调用模型的forward方法\n",
    "        # y_pred的维度为(batch_size, layer_sizes[-1])\n",
    "        y_pred = mlp(x)\n",
    "        # 计算交叉熵损失\n",
    "        train_loss = torch.mean(-y * torch.log(y_pred + eps) \\\n",
    "            - (1 - y) * torch.log(1 - y_pred + eps))\n",
    "        # 清空梯度\n",
    "        opt.zero_grad()\n",
    "        # 反向传播\n",
    "        train_loss.backward()\n",
    "        # 更新参数\n",
    "        opt.step()\n",
    "\n",
    "        # 记录累加损失，需要先将损失从张量转为numpy格式\n",
    "        loss.append(train_loss.detach().numpy())\n",
    "        st += batch_size\n",
    "\n",
    "    losses.append(np.mean(loss))\n",
    "    # 计算测试集上的交叉熵\n",
    "    # 在不需要梯度的部分，可以用torch.inference_mode()加速计算\n",
    "    with torch.inference_mode():\n",
    "        x = torch.tensor(x_test, dtype=torch.float32)\n",
    "        y = torch.tensor(y_test, dtype=torch.float32).reshape(-1, 1)\n",
    "        y_pred = mlp(x)\n",
    "        test_loss = torch.sum(-y * torch.log(y_pred + eps) \\\n",
    "            - (1 - y) * torch.log(1 - y_pred + eps)) / len(x_test)\n",
    "        test_acc = torch.sum(torch.round(y_pred) == y) / len(x_test)\n",
    "        test_losses.append(test_loss.detach().numpy())\n",
    "        test_accs.append(test_acc.detach().numpy())\n",
    "\n",
    "print('测试精度：', test_accs[-1])\n",
    "# 将损失变化进行可视化\n",
    "plt.figure(figsize=(16, 6))\n",
    "plt.subplot(121)\n",
    "plt.plot(losses, color='blue', label='train loss')\n",
    "plt.plot(test_losses, color='red', ls='--', label='test loss')\n",
    "plt.xlabel('Step')\n",
    "plt.ylabel('Loss')\n",
    "plt.title('Cross-Entropy Loss')\n",
    "plt.legend()\n",
    "\n",
    "plt.subplot(122)\n",
    "plt.plot(test_accs, color='red')\n",
    "plt.ylim(top=1.0)\n",
    "plt.xlabel('Step')\n",
    "plt.ylabel('Accuracy')\n",
    "plt.title('Test Accuracy')\n",
    "plt.show()"
   ],
   "metadata": {
    "collapsed": false,
    "ExecuteTime": {
     "end_time": "2023-11-29T08:58:27.711362900Z",
     "start_time": "2023-11-29T08:56:09.398233300Z"
    }
   },
   "id": "3510b8b2f067cd71"
  },
  {
   "cell_type": "code",
   "execution_count": 53,
   "outputs": [
    {
     "name": "stdout",
     "output_type": "stream",
     "text": [
      "2\n"
     ]
    }
   ],
   "source": [],
   "metadata": {
    "collapsed": false,
    "ExecuteTime": {
     "end_time": "2023-11-29T08:55:27.518458900Z",
     "start_time": "2023-11-29T08:54:58.846674200Z"
    }
   },
   "id": "709b8fe67d57f723"
  }
 ],
 "metadata": {
  "kernelspec": {
   "display_name": "Python 3",
   "language": "python",
   "name": "python3"
  },
  "language_info": {
   "codemirror_mode": {
    "name": "ipython",
    "version": 2
   },
   "file_extension": ".py",
   "mimetype": "text/x-python",
   "name": "python",
   "nbconvert_exporter": "python",
   "pygments_lexer": "ipython2",
   "version": "2.7.6"
  }
 },
 "nbformat": 4,
 "nbformat_minor": 5
}
